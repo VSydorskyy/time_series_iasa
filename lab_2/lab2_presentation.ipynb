{
 "cells": [
  {
   "cell_type": "code",
   "execution_count": null,
   "metadata": {},
   "outputs": [],
   "source": [
    "import numpy as np\n",
    "import pandas as pd\n",
    "\n",
    "from matplotlib import pyplot as plt\n",
    "\n",
    "from parse_input_file import parse_file\n",
    "from create_feature_dfs import compose_signals_df, create_initial_input, create_df_only_outs\n",
    "\n",
    "from MA import moving_average\n",
    "from PACF import PACF"
   ]
  },
  {
   "cell_type": "code",
   "execution_count": null,
   "metadata": {},
   "outputs": [],
   "source": [
    "READ_FROM_FILE_TEST = False\n",
    "FILE_PATH_FROM_DATA = 'Data/rts1.txt'"
   ]
  },
  {
   "cell_type": "code",
   "execution_count": null,
   "metadata": {},
   "outputs": [],
   "source": [
    "if READ_FROM_FILE_TEST:\n",
    "    parsing_result = parse_file('Test+')\n",
    "    \n",
    "    a_coefs = [parsing_result['out_weights'][i] for i in parsing_result['out_weights'].keys()]\n",
    "    b_coefs = [parsing_result['manage_weights'][i] for i in parsing_result['manage_weights'].keys()]\n",
    "    \n",
    "    features_dfs = compose_signals_df(parsing_result)\n",
    "elif FILE_PATH_FROM_DATA:\n",
    "    features_dfs = create_df_only_outs(FILE_PATH_FROM_DATA)\n",
    "else:\n",
    "    a_coefs = [0,0.15,-0.33,0.25]\n",
    "    b_coefs = [1,0.3,0.7,0.]\n",
    "    \n",
    "    parsing_result = create_initial_input(a_coefs, b_coefs, uniform_low=0, uniform_high=100, time_series_shape=100, noise_std=1)\n",
    "    \n",
    "    features_dfs = compose_signals_df(parsing_result)"
   ]
  },
  {
   "cell_type": "code",
   "execution_count": null,
   "metadata": {},
   "outputs": [],
   "source": [
    "features_dfs.head()"
   ]
  },
  {
   "cell_type": "code",
   "execution_count": null,
   "metadata": {},
   "outputs": [],
   "source": [
    "plt.figure(figsize=(16,16))\n",
    "\n",
    "features_dfs['''v(k)'''].plot(label='''v(k)''')\n",
    "features_dfs['''y(k)'''].plot(label='''y(k)''')\n",
    "\n",
    "plt.legend(loc='upper left')\n",
    "plt.show()"
   ]
  },
  {
   "cell_type": "markdown",
   "metadata": {},
   "source": [
    "# Moving average"
   ]
  },
  {
   "cell_type": "code",
   "execution_count": null,
   "metadata": {},
   "outputs": [],
   "source": [
    "moving_avarege_result, w_1 = moving_average(features_dfs['''y(k)'''], n=5)\n",
    "exponential_ma_result, w_2 = moving_average(features_dfs['''y(k)'''], n=5, weights='exp')\n",
    "exp_smoothed_ma_result, w_3 = moving_average(features_dfs['''y(k)'''], n=5, weights='exp_smoothed')"
   ]
  },
  {
   "cell_type": "code",
   "execution_count": null,
   "metadata": {},
   "outputs": [],
   "source": [
    "plt.figure(figsize=(16,16))\n",
    "\n",
    "plt.plot(features_dfs['''y(k)'''], label='initial time series')\n",
    "plt.plot(range(4,features_dfs.shape[0]),moving_avarege_result, label='Moving avarage')\n",
    "plt.plot(range(4,features_dfs.shape[0]),exponential_ma_result, label='Exponential Moving avarage')\n",
    "plt.plot(range(4,features_dfs.shape[0]),exp_smoothed_ma_result, label='Exponential Smoothed Moving avarage')\n",
    "\n",
    "plt.legend(loc='upper left')\n",
    "plt.show()"
   ]
  },
  {
   "cell_type": "markdown",
   "metadata": {},
   "source": [
    "# Patial Auto Correlation Function"
   ]
  },
  {
   "cell_type": "code",
   "execution_count": null,
   "metadata": {},
   "outputs": [],
   "source": [
    "pacf_object = PACF(features_dfs['''y(k)'''])\n",
    "pacf_results = [pacf_object.simmetric_F(i) for i in range(10)]"
   ]
  },
  {
   "cell_type": "code",
   "execution_count": null,
   "metadata": {},
   "outputs": [],
   "source": [
    "plt.figure(figsize=(16,16))\n",
    "\n",
    "plt.plot(pacf_results);"
   ]
  },
  {
   "cell_type": "code",
   "execution_count": null,
   "metadata": {},
   "outputs": [],
   "source": [
    "r_results = [pacf_object.count_r(i) for i in range(10)]\n",
    "\n",
    "plt.figure(figsize=(16,16))\n",
    "\n",
    "plt.plot(r_results);"
   ]
  },
  {
   "cell_type": "code",
   "execution_count": null,
   "metadata": {},
   "outputs": [],
   "source": []
  }
 ],
 "metadata": {
  "kernelspec": {
   "display_name": "Python 3.6 venv",
   "language": "python",
   "name": "venv"
  },
  "language_info": {
   "codemirror_mode": {
    "name": "ipython",
    "version": 3
   },
   "file_extension": ".py",
   "mimetype": "text/x-python",
   "name": "python",
   "nbconvert_exporter": "python",
   "pygments_lexer": "ipython3",
   "version": "3.6.8"
  }
 },
 "nbformat": 4,
 "nbformat_minor": 4
}
