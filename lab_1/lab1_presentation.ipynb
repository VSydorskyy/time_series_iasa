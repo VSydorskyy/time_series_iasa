{
 "cells": [
  {
   "cell_type": "code",
   "execution_count": 1,
   "metadata": {},
   "outputs": [],
   "source": [
    "import numpy as np\n",
    "import pandas as pd\n",
    "\n",
    "from itertools import chain\n",
    "from matplotlib import pyplot as plt\n",
    "\n",
    "from parse_input_file import parse_file\n",
    "from create_feature_dfs import compose_signals_df, create_initial_input\n",
    "from LeastSquaresMethod import LeastSquaresMethod\n",
    "from RecursiveLeastSquaresMethod import RecursiveLeastSquaresMethod\n",
    "from metrics import compose_all_metrics\n",
    "from ploting_utils import plot_one_model_metric, plot_two_models_metric"
   ]
  },
  {
   "cell_type": "code",
   "execution_count": 2,
   "metadata": {},
   "outputs": [],
   "source": [
    "READ_FROM_FILE = False"
   ]
  },
  {
   "cell_type": "code",
   "execution_count": 7,
   "metadata": {},
   "outputs": [],
   "source": [
    "if READ_FROM_FILE:\n",
    "    parsing_result = parse_file('Test+')\n",
    "    \n",
    "    a_coefs = [parsing_result['out_weights'][i] for i in parsing_result['out_weights'].keys()]\n",
    "    b_coefs = [parsing_result['manage_weights'][i] for i in parsing_result['manage_weights'].keys()]\n",
    "else:\n",
    "    a_coefs = [0,0.15,-0.33,0.25]\n",
    "    b_coefs = [1,0.3,0.7,0.]\n",
    "\n",
    "    parsing_result = create_initial_input(a_coefs, b_coefs, uniform_low=0, uniform_high=100, time_series_shape=100, noise_std=1)"
   ]
  },
  {
   "cell_type": "code",
   "execution_count": 8,
   "metadata": {},
   "outputs": [
    {
     "data": {
      "text/html": [
       "<div>\n",
       "<style scoped>\n",
       "    .dataframe tbody tr th:only-of-type {\n",
       "        vertical-align: middle;\n",
       "    }\n",
       "\n",
       "    .dataframe tbody tr th {\n",
       "        vertical-align: top;\n",
       "    }\n",
       "\n",
       "    .dataframe thead th {\n",
       "        text-align: right;\n",
       "    }\n",
       "</style>\n",
       "<table border=\"1\" class=\"dataframe\">\n",
       "  <thead>\n",
       "    <tr style=\"text-align: right;\">\n",
       "      <th></th>\n",
       "      <th>y(k)</th>\n",
       "      <th>y(k-1)</th>\n",
       "      <th>y(k-2)</th>\n",
       "      <th>y(k-3)</th>\n",
       "      <th>v(k)</th>\n",
       "      <th>v(k-1)</th>\n",
       "      <th>v(k-2)</th>\n",
       "      <th>v(k-3)</th>\n",
       "    </tr>\n",
       "  </thead>\n",
       "  <tbody>\n",
       "    <tr>\n",
       "      <th>0</th>\n",
       "      <td>51.144788</td>\n",
       "      <td>5.817490</td>\n",
       "      <td>69.972183</td>\n",
       "      <td>86.126046</td>\n",
       "      <td>48.869760</td>\n",
       "      <td>7.022462</td>\n",
       "      <td>71.827350</td>\n",
       "      <td>84.106041</td>\n",
       "    </tr>\n",
       "    <tr>\n",
       "      <th>1</th>\n",
       "      <td>43.682070</td>\n",
       "      <td>51.144788</td>\n",
       "      <td>5.817490</td>\n",
       "      <td>69.972183</td>\n",
       "      <td>67.198567</td>\n",
       "      <td>48.869760</td>\n",
       "      <td>7.022462</td>\n",
       "      <td>71.827350</td>\n",
       "    </tr>\n",
       "    <tr>\n",
       "      <th>2</th>\n",
       "      <td>46.123285</td>\n",
       "      <td>43.682070</td>\n",
       "      <td>51.144788</td>\n",
       "      <td>5.817490</td>\n",
       "      <td>95.444063</td>\n",
       "      <td>67.198567</td>\n",
       "      <td>48.869760</td>\n",
       "      <td>7.022462</td>\n",
       "    </tr>\n",
       "    <tr>\n",
       "      <th>3</th>\n",
       "      <td>80.978767</td>\n",
       "      <td>46.123285</td>\n",
       "      <td>43.682070</td>\n",
       "      <td>51.144788</td>\n",
       "      <td>14.990451</td>\n",
       "      <td>95.444063</td>\n",
       "      <td>67.198567</td>\n",
       "      <td>48.869760</td>\n",
       "    </tr>\n",
       "    <tr>\n",
       "      <th>4</th>\n",
       "      <td>79.253105</td>\n",
       "      <td>80.978767</td>\n",
       "      <td>46.123285</td>\n",
       "      <td>43.682070</td>\n",
       "      <td>59.400139</td>\n",
       "      <td>14.990451</td>\n",
       "      <td>95.444063</td>\n",
       "      <td>67.198567</td>\n",
       "    </tr>\n",
       "  </tbody>\n",
       "</table>\n",
       "</div>"
      ],
      "text/plain": [
       "        y(k)     y(k-1)     y(k-2)     y(k-3)       v(k)     v(k-1)  \\\n",
       "0  51.144788   5.817490  69.972183  86.126046  48.869760   7.022462   \n",
       "1  43.682070  51.144788   5.817490  69.972183  67.198567  48.869760   \n",
       "2  46.123285  43.682070  51.144788   5.817490  95.444063  67.198567   \n",
       "3  80.978767  46.123285  43.682070  51.144788  14.990451  95.444063   \n",
       "4  79.253105  80.978767  46.123285  43.682070  59.400139  14.990451   \n",
       "\n",
       "      v(k-2)     v(k-3)  \n",
       "0  71.827350  84.106041  \n",
       "1   7.022462  71.827350  \n",
       "2  48.869760   7.022462  \n",
       "3  67.198567  48.869760  \n",
       "4  95.444063  67.198567  "
      ]
     },
     "execution_count": 8,
     "metadata": {},
     "output_type": "execute_result"
    }
   ],
   "source": [
    "features_dfs = compose_signals_df(parsing_result)\n",
    "\n",
    "features_dfs.head()"
   ]
  },
  {
   "cell_type": "code",
   "execution_count": 9,
   "metadata": {},
   "outputs": [
    {
     "data": {
      "text/plain": [
       "<matplotlib.axes._subplots.AxesSubplot at 0x7fcb2b1af4e0>"
      ]
     },
     "execution_count": 9,
     "metadata": {},
     "output_type": "execute_result"
    },
    {
     "data": {
      "image/png": "[encoded data removed]",
      "text/plain": [
       "<Figure size 432x288 with 1 Axes>"
      ]
     },
     "metadata": {
      "needs_background": "light"
     },
     "output_type": "display_data"
    }
   ],
   "source": [
    "features_dfs['''y(k)'''].plot()"
   ]
  },
  {
   "cell_type": "markdown",
   "metadata": {},
   "source": [
    "# Moving average"
   ]
  },
  {
   "cell_type": "code",
   "execution_count": 30,
   "metadata": {},
   "outputs": [],
   "source": [
    "def moving_average(a, n=3, weights=None):\n",
    "    \n",
    "    if weights == 'exp':\n",
    "        weights = np.exp(-np.arange(start=0,stop=n))\n",
    "    if weights == 'exp_smoothed':\n",
    "        weights = np.arange(start=0,stop=n)**(1 - 2/(n+1))\n",
    "    else:\n",
    "        weights = np.ones(n)\n",
    "        \n",
    "    print(weights)\n",
    "        \n",
    "    a = np.array(a)\n",
    "    ret = np.cumsum(a, dtype=float)\n",
    "    ret[n:] = ret[n:] - ret[:-n]\n",
    "    print(ret[n - 1:])\n",
    "    print(ret[n-1:].shape[0]/n)\n",
    "    return ret[n - 1:]@weights / weights.sum()"
   ]
  },
  {
   "cell_type": "code",
   "execution_count": 31,
   "metadata": {},
   "outputs": [
    {
     "name": "stdout",
     "output_type": "stream",
     "text": [
      "[1. 1. 1. 1. 1.]\n",
      "[301.18201484 275.10779873 279.72943765 281.88782513 229.50487936\n",
      " 176.56362328 200.60805038 183.8860424  150.68477471 177.50809044\n",
      " 204.72662921 210.3801672  243.22470115 269.05652081 242.8347248\n",
      " 265.21589209 271.78436463 276.41562478 328.58873741 366.46865163\n",
      " 362.81130897 340.9118016  309.59925543 300.17281382 285.79430202\n",
      " 257.82821757 277.77330866 303.40569079 282.42681808 307.28810676\n",
      " 327.51978907 349.34824942 338.13585406 298.84588991 260.7695939\n",
      " 220.62341849 186.27851871 230.72399269 295.76133737 292.4865001\n",
      " 309.7209374  356.60713815 331.19187325 297.61823952 320.78896857\n",
      " 368.65693976 342.89924717 307.71815144 323.90316828 318.15953528\n",
      " 297.96213504 312.72625737 313.52774106 275.82640418 295.86049403\n",
      " 271.86791001 232.25259825 247.65561433 243.27035368 221.46372373\n",
      " 282.36443516 315.83184403 270.49571766 268.04127361 276.90327175\n",
      " 230.44140374 184.56591072 253.3116259  270.23564744 224.61155237\n",
      " 223.21723205 229.76288068 214.30621231 248.22228394 258.02904071\n",
      " 233.97512048 259.2362156  216.33703332 174.92417313 244.95242048\n",
      " 284.98203203 239.3148951  239.29000577 256.73783552 207.12211386\n",
      " 205.80606002 276.86329124 290.04879972 237.0959409  234.3901938\n",
      " 229.39490027 181.61161619 242.61304142]\n",
      "18.6\n"
     ]
    },
    {
     "ename": "ValueError",
     "evalue": "matmul: Input operand 1 has a mismatch in its core dimension 0, with gufunc signature (n?,k),(k,m?)->(n?,m?) (size 5 is different from 93)",
     "output_type": "error",
     "traceback": [
      "\u001b[0;31m---------------------------------------------------------------------------\u001b[0m",
      "\u001b[0;31mValueError\u001b[0m                                Traceback (most recent call last)",
      "\u001b[0;32m<ipython-input-31-c5b43fda3d7d>\u001b[0m in \u001b[0;36m<module>\u001b[0;34m\u001b[0m\n\u001b[0;32m----> 1\u001b[0;31m \u001b[0mmoving_avarege_result\u001b[0m \u001b[0;34m=\u001b[0m \u001b[0mmoving_average\u001b[0m\u001b[0;34m(\u001b[0m\u001b[0mfeatures_dfs\u001b[0m\u001b[0;34m[\u001b[0m\u001b[0;34m'''y(k)'''\u001b[0m\u001b[0;34m]\u001b[0m\u001b[0;34m,\u001b[0m \u001b[0mn\u001b[0m\u001b[0;34m=\u001b[0m\u001b[0;36m5\u001b[0m\u001b[0;34m)\u001b[0m\u001b[0;34m\u001b[0m\u001b[0;34m\u001b[0m\u001b[0m\n\u001b[0m",
      "\u001b[0;32m<ipython-input-30-93ea97aa94d3>\u001b[0m in \u001b[0;36mmoving_average\u001b[0;34m(a, n, weights)\u001b[0m\n\u001b[1;32m     15\u001b[0m     \u001b[0mprint\u001b[0m\u001b[0;34m(\u001b[0m\u001b[0mret\u001b[0m\u001b[0;34m[\u001b[0m\u001b[0mn\u001b[0m \u001b[0;34m-\u001b[0m \u001b[0;36m1\u001b[0m\u001b[0;34m:\u001b[0m\u001b[0;34m]\u001b[0m\u001b[0;34m)\u001b[0m\u001b[0;34m\u001b[0m\u001b[0;34m\u001b[0m\u001b[0m\n\u001b[1;32m     16\u001b[0m     \u001b[0mprint\u001b[0m\u001b[0;34m(\u001b[0m\u001b[0mret\u001b[0m\u001b[0;34m[\u001b[0m\u001b[0mn\u001b[0m\u001b[0;34m-\u001b[0m\u001b[0;36m1\u001b[0m\u001b[0;34m:\u001b[0m\u001b[0;34m]\u001b[0m\u001b[0;34m.\u001b[0m\u001b[0mshape\u001b[0m\u001b[0;34m[\u001b[0m\u001b[0;36m0\u001b[0m\u001b[0;34m]\u001b[0m\u001b[0;34m/\u001b[0m\u001b[0mn\u001b[0m\u001b[0;34m)\u001b[0m\u001b[0;34m\u001b[0m\u001b[0;34m\u001b[0m\u001b[0m\n\u001b[0;32m---> 17\u001b[0;31m     \u001b[0;32mreturn\u001b[0m \u001b[0mret\u001b[0m\u001b[0;34m[\u001b[0m\u001b[0mn\u001b[0m \u001b[0;34m-\u001b[0m \u001b[0;36m1\u001b[0m\u001b[0;34m:\u001b[0m\u001b[0;34m]\u001b[0m\u001b[0;34m@\u001b[0m\u001b[0mweights\u001b[0m \u001b[0;34m/\u001b[0m \u001b[0mweights\u001b[0m\u001b[0;34m.\u001b[0m\u001b[0msum\u001b[0m\u001b[0;34m(\u001b[0m\u001b[0;34m)\u001b[0m\u001b[0;34m\u001b[0m\u001b[0;34m\u001b[0m\u001b[0m\n\u001b[0m",
      "\u001b[0;31mValueError\u001b[0m: matmul: Input operand 1 has a mismatch in its core dimension 0, with gufunc signature (n?,k),(k,m?)->(n?,m?) (size 5 is different from 93)"
     ]
    }
   ],
   "source": [
    "moving_avarege_result = moving_average(features_dfs['''y(k)'''], n=5)"
   ]
  },
  {
   "cell_type": "code",
   "execution_count": 19,
   "metadata": {},
   "outputs": [
    {
     "data": {
      "image/png": "[encoded data removed]",
      "text/plain": [
       "<Figure size 432x288 with 1 Axes>"
      ]
     },
     "metadata": {
      "needs_background": "light"
     },
     "output_type": "display_data"
    }
   ],
   "source": [
    "plt.plot(range(4,features_dfs.shape[0]),moving_avarege_result)\n",
    "plt.plot(features_dfs['''y(k)'''])\n",
    "plt.show()"
   ]
  },
  {
   "cell_type": "markdown",
   "metadata": {},
   "source": [
    "# Least Square Method"
   ]
  },
  {
   "cell_type": "code",
   "execution_count": null,
   "metadata": {},
   "outputs": [],
   "source": [
    "best_ls_method = LeastSquaresMethod(biased=True)"
   ]
  },
  {
   "cell_type": "code",
   "execution_count": null,
   "metadata": {},
   "outputs": [],
   "source": [
    "best_ls_method.fit(X=np.array(features_dfs.drop(columns=['''y(k)'''])), \n",
    "                   y=np.array(features_dfs['''y(k)''']))"
   ]
  },
  {
   "cell_type": "code",
   "execution_count": null,
   "metadata": {},
   "outputs": [],
   "source": [
    "ls_pred = best_ls_method.predict(np.array(features_dfs.drop(columns=['''y(k)'''])))"
   ]
  },
  {
   "cell_type": "code",
   "execution_count": null,
   "metadata": {},
   "outputs": [],
   "source": [
    "features_dfs['lsm_pred'] = ls_pred\n",
    "features_dfs[['''y(k)''','lsm_pred']].plot();\n",
    "features_dfs.drop(columns='lsm_pred', inplace=True)"
   ]
  },
  {
   "cell_type": "code",
   "execution_count": null,
   "metadata": {},
   "outputs": [],
   "source": [
    "compose_all_metrics(features_dfs['''y(k)'''], ls_pred, best_ls_method.coef_matrix.shape[0])"
   ]
  },
  {
   "cell_type": "markdown",
   "metadata": {},
   "source": [
    "## Different LS Models"
   ]
  },
  {
   "cell_type": "code",
   "execution_count": null,
   "metadata": {},
   "outputs": [],
   "source": [
    "ls_models = []\n",
    "\n",
    "for y_idx in range(3,0,-1):\n",
    "    for v_idx in range(3,0, -1):\n",
    "        print('-'*5 + 'NEW MODEL' + '-'*5)\n",
    "        coefs_to_ignore = ['''y(k-{})'''.format(i) for i in range(1,y_idx)] + ['''v(k-{})'''.format(i) for i in range(1,v_idx)]\n",
    "        left_coefs = (set(features_dfs.columns) - {'''y(k)'''}) - set(coefs_to_ignore)\n",
    "        print('Left coefs: {}'.format(left_coefs))\n",
    "        print('Model R({},{})'.format(4-y_idx, 4-v_idx))\n",
    "        \n",
    "        ls_method = LeastSquaresMethod(biased=True)\n",
    "        ls_method.fit(X=np.array(features_dfs.drop(columns=['''y(k)'''] + coefs_to_ignore)), \n",
    "                      y=np.array(features_dfs['''y(k)''']))\n",
    "        ls_pred = ls_method.predict(np.array(features_dfs.drop(columns=['''y(k)'''] + coefs_to_ignore)))\n",
    "        \n",
    "        temp_results = compose_all_metrics(features_dfs['''y(k)'''], ls_pred, ls_method.coef_matrix.shape[0])\n",
    "        \n",
    "        print('Metrics: {}'.format(temp_results))\n",
    "        \n",
    "        temp_results['name'] = 'R({},{})'.format(4-y_idx, 4-v_idx)\n",
    "        \n",
    "        ls_models.append(temp_results)\n",
    "        "
   ]
  },
  {
   "cell_type": "code",
   "execution_count": null,
   "metadata": {},
   "outputs": [],
   "source": [
    "plot_one_model_metric(ls_models, 'rmse')"
   ]
  },
  {
   "cell_type": "code",
   "execution_count": null,
   "metadata": {},
   "outputs": [],
   "source": [
    "plot_one_model_metric(ls_models, 'determination_coef')"
   ]
  },
  {
   "cell_type": "code",
   "execution_count": null,
   "metadata": {},
   "outputs": [],
   "source": [
    "plot_one_model_metric(ls_models, 'akke_coef')"
   ]
  },
  {
   "cell_type": "markdown",
   "metadata": {},
   "source": [
    "# Recursive Least Square Method"
   ]
  },
  {
   "cell_type": "code",
   "execution_count": null,
   "metadata": {},
   "outputs": [],
   "source": [
    "best_rls_method = RecursiveLeastSquaresMethod(coef_matrix_shape=features_dfs.shape[1] - 1, \n",
    "                                              biased=True)"
   ]
  },
  {
   "cell_type": "code",
   "execution_count": null,
   "metadata": {},
   "outputs": [],
   "source": [
    "rls_pred, rls_coefs = best_rls_method.predict_all(X=np.array(features_dfs.drop(columns=['''y(k)'''])), \n",
    "                                                  y=np.array(features_dfs['''y(k)''']))"
   ]
  },
  {
   "cell_type": "code",
   "execution_count": null,
   "metadata": {},
   "outputs": [],
   "source": [
    "features_dfs['rlsm_pred'] = rls_pred\n",
    "features_dfs[['''y(k)''','rlsm_pred']].plot();\n",
    "features_dfs.drop(columns='rlsm_pred', inplace=True)"
   ]
  },
  {
   "cell_type": "code",
   "execution_count": null,
   "metadata": {},
   "outputs": [],
   "source": [
    "compose_all_metrics(features_dfs['''y(k)'''], rls_pred, best_rls_method.coef_matrix.shape[0])"
   ]
  },
  {
   "cell_type": "code",
   "execution_count": null,
   "metadata": {},
   "outputs": [],
   "source": [
    "rls_models = []\n",
    "\n",
    "for y_idx in range(3,0,-1):\n",
    "    for v_idx in range(3,0, -1):\n",
    "        print('-'*5 + 'NEW MODEL' + '-'*5)\n",
    "        coefs_to_ignore = ['''y(k-{})'''.format(i) for i in range(1,y_idx)] + ['''v(k-{})'''.format(i) for i in range(1,v_idx)]\n",
    "        left_coefs = (set(features_dfs.columns) - {'''y(k)'''}) - set(coefs_to_ignore)\n",
    "        print('Left coefs: {}'.format(left_coefs))\n",
    "        print('Model R({},{})'.format(4-y_idx, 4-v_idx))\n",
    "        \n",
    "        rls_method = RecursiveLeastSquaresMethod(coef_matrix_shape=features_dfs.shape[1] - len(coefs_to_ignore) - 1, \n",
    "                                                 biased=True)\n",
    "        rls_pred, _ = rls_method.predict_all(X=np.array(features_dfs.drop(columns=['''y(k)'''] + coefs_to_ignore)), \n",
    "                                                     y=np.array(features_dfs['''y(k)''']))\n",
    "        \n",
    "        temp_results = compose_all_metrics(features_dfs['''y(k)'''], rls_pred, rls_method.coef_matrix.shape[0])\n",
    "        \n",
    "        print('Metrics: {}'.format(temp_results))\n",
    "        \n",
    "        temp_results['name'] = 'R({},{})'.format(4-y_idx, 4-v_idx)\n",
    "        \n",
    "        rls_models.append(temp_results)"
   ]
  },
  {
   "cell_type": "code",
   "execution_count": null,
   "metadata": {},
   "outputs": [],
   "source": [
    "plot_one_model_metric(rls_models, 'rmse')"
   ]
  },
  {
   "cell_type": "code",
   "execution_count": null,
   "metadata": {},
   "outputs": [],
   "source": [
    "plot_one_model_metric(rls_models, 'determination_coef')"
   ]
  },
  {
   "cell_type": "code",
   "execution_count": null,
   "metadata": {},
   "outputs": [],
   "source": [
    "plot_one_model_metric(rls_models, 'akke_coef')"
   ]
  },
  {
   "cell_type": "markdown",
   "metadata": {},
   "source": [
    "# Compare models"
   ]
  },
  {
   "cell_type": "markdown",
   "metadata": {},
   "source": [
    "## Metrics"
   ]
  },
  {
   "cell_type": "code",
   "execution_count": null,
   "metadata": {},
   "outputs": [],
   "source": [
    "models_dict = {'ls_method':ls_models, 'rls_method':rls_models}"
   ]
  },
  {
   "cell_type": "code",
   "execution_count": null,
   "metadata": {},
   "outputs": [],
   "source": [
    "plot_two_models_metric(models_dict, 'rmse')"
   ]
  },
  {
   "cell_type": "code",
   "execution_count": null,
   "metadata": {},
   "outputs": [],
   "source": [
    "plot_two_models_metric(models_dict, 'determination_coef')"
   ]
  },
  {
   "cell_type": "code",
   "execution_count": null,
   "metadata": {},
   "outputs": [],
   "source": [
    "plot_two_models_metric(models_dict, 'akke_coef')"
   ]
  },
  {
   "cell_type": "markdown",
   "metadata": {},
   "source": [
    "## Coefficients"
   ]
  },
  {
   "cell_type": "code",
   "execution_count": null,
   "metadata": {},
   "outputs": [],
   "source": [
    "plt.rcParams[\"figure.figsize\"] = (20,20)\n",
    "\n",
    "fig, axs = plt.subplots(2, 4)\n",
    "\n",
    "for i in range(len(a_coefs)):\n",
    "    axs[0,i].set_title('''a({})'''.format(i))\n",
    "    axs[0,i].plot(np.array(rls_coefs)[:,i])\n",
    "    axs[0,i].plot([a_coefs[i] for j in range(rls_coefs.shape[0])])\n",
    "    axs[0,i].plot([best_ls_method.coef_matrix[i] for j in range(rls_coefs.shape[0])])\n",
    "    axs[0,i].legend(['rls_method','ls_method','real_coef'], loc='upper left')\n",
    "    \n",
    "\n",
    "for i in range(len(b_coefs)):\n",
    "    axs[1,i].set_title('''b({})'''.format(i))\n",
    "    axs[1,i].plot(np.array(rls_coefs)[:,i+len(a_coefs)])\n",
    "    axs[1,i].plot([b_coefs[i] for j in range(rls_coefs.shape[0])])\n",
    "    axs[1,i].plot([best_ls_method.coef_matrix[i+len(a_coefs)] for j in range(rls_coefs.shape[0])])\n",
    "    axs[1,i].legend(['rls_method','ls_method','real_coef'], loc='upper left')"
   ]
  },
  {
   "cell_type": "code",
   "execution_count": null,
   "metadata": {},
   "outputs": [],
   "source": [
    "models_df = dict()\n",
    "models_df['ls_method'] = pd.DataFrame({k_2: [el[k_2] for el in models_dict['ls_method']] for k_2 in ['name', 'rmse', 'determination_coef', 'akke_coef']})\n",
    "models_df['rls_method'] = pd.DataFrame({k_2: [el[k_2] for el in models_dict['rls_method']] for k_2 in ['rmse', 'determination_coef', 'akke_coef']})\n",
    "\n",
    "pd.concat(models_df, axis=1)"
   ]
  },
  {
   "cell_type": "code",
   "execution_count": null,
   "metadata": {},
   "outputs": [],
   "source": []
  }
 ],
 "metadata": {
  "kernelspec": {
   "display_name": "Python 3.6 venv",
   "language": "python",
   "name": "venv"
  },
  "language_info": {
   "codemirror_mode": {
    "name": "ipython",
    "version": 3
   },
   "file_extension": ".py",
   "mimetype": "text/x-python",
   "name": "python",
   "nbconvert_exporter": "python",
   "pygments_lexer": "ipython3",
   "version": "3.6.8"
  }
 },
 "nbformat": 4,
 "nbformat_minor": 4
}
