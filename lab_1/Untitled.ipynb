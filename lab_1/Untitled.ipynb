{
 "cells": [
  {
   "cell_type": "code",
   "execution_count": 1,
   "metadata": {},
   "outputs": [],
   "source": [
    "import numpy as np\n",
    "import pandas as pd\n",
    "\n",
    "from parse_input_file import parse_file\n",
    "from create_feature_dfs import compose_signals_df\n",
    "from LeastSquaresMethod import LeastSquaresMethod\n",
    "from RecursiveLeastSquaresMethod import RecursiveLeastSquaresMethod\n",
    "from metrics import count_model_coef_rmse, rsse, determination_coef"
   ]
  },
  {
   "cell_type": "code",
   "execution_count": 2,
   "metadata": {},
   "outputs": [],
   "source": [
    "parsing_result = parse_file('Test+')\n",
    "features_dfs = compose_signals_df(parsing_result)"
   ]
  },
  {
   "cell_type": "code",
   "execution_count": 3,
   "metadata": {},
   "outputs": [
    {
     "data": {
      "text/html": [
       "<div>\n",
       "<style scoped>\n",
       "    .dataframe tbody tr th:only-of-type {\n",
       "        vertical-align: middle;\n",
       "    }\n",
       "\n",
       "    .dataframe tbody tr th {\n",
       "        vertical-align: top;\n",
       "    }\n",
       "\n",
       "    .dataframe thead th {\n",
       "        text-align: right;\n",
       "    }\n",
       "</style>\n",
       "<table border=\"1\" class=\"dataframe\">\n",
       "  <thead>\n",
       "    <tr style=\"text-align: right;\">\n",
       "      <th></th>\n",
       "      <th>y(k)</th>\n",
       "      <th>y(k-1)</th>\n",
       "      <th>y(k-2)</th>\n",
       "      <th>y(k-3)</th>\n",
       "      <th>v(k)</th>\n",
       "      <th>v(k-1)</th>\n",
       "      <th>v(k-2)</th>\n",
       "      <th>v(k-3)</th>\n",
       "    </tr>\n",
       "  </thead>\n",
       "  <tbody>\n",
       "    <tr>\n",
       "      <th>0</th>\n",
       "      <td>-0.129424</td>\n",
       "      <td>0.012543</td>\n",
       "      <td>-0.330653</td>\n",
       "      <td>-0.263688</td>\n",
       "      <td>0.789293</td>\n",
       "      <td>0.294494</td>\n",
       "      <td>-1.258052</td>\n",
       "      <td>-0.178062</td>\n",
       "    </tr>\n",
       "    <tr>\n",
       "      <th>1</th>\n",
       "      <td>-0.097545</td>\n",
       "      <td>-0.129424</td>\n",
       "      <td>0.012543</td>\n",
       "      <td>-0.330653</td>\n",
       "      <td>0.267935</td>\n",
       "      <td>0.789293</td>\n",
       "      <td>0.294494</td>\n",
       "      <td>-1.258052</td>\n",
       "    </tr>\n",
       "    <tr>\n",
       "      <th>2</th>\n",
       "      <td>-0.027886</td>\n",
       "      <td>-0.097545</td>\n",
       "      <td>-0.129424</td>\n",
       "      <td>0.012543</td>\n",
       "      <td>0.463723</td>\n",
       "      <td>0.267935</td>\n",
       "      <td>0.789293</td>\n",
       "      <td>0.294494</td>\n",
       "    </tr>\n",
       "    <tr>\n",
       "      <th>3</th>\n",
       "      <td>-0.046153</td>\n",
       "      <td>-0.027886</td>\n",
       "      <td>-0.097545</td>\n",
       "      <td>-0.129424</td>\n",
       "      <td>0.984378</td>\n",
       "      <td>0.463723</td>\n",
       "      <td>0.267935</td>\n",
       "      <td>0.789293</td>\n",
       "    </tr>\n",
       "    <tr>\n",
       "      <th>4</th>\n",
       "      <td>-0.026714</td>\n",
       "      <td>-0.046153</td>\n",
       "      <td>-0.027886</td>\n",
       "      <td>-0.097545</td>\n",
       "      <td>-0.551910</td>\n",
       "      <td>0.984378</td>\n",
       "      <td>0.463723</td>\n",
       "      <td>0.267935</td>\n",
       "    </tr>\n",
       "  </tbody>\n",
       "</table>\n",
       "</div>"
      ],
      "text/plain": [
       "       y(k)    y(k-1)    y(k-2)    y(k-3)      v(k)    v(k-1)    v(k-2)  \\\n",
       "0 -0.129424  0.012543 -0.330653 -0.263688  0.789293  0.294494 -1.258052   \n",
       "1 -0.097545 -0.129424  0.012543 -0.330653  0.267935  0.789293  0.294494   \n",
       "2 -0.027886 -0.097545 -0.129424  0.012543  0.463723  0.267935  0.789293   \n",
       "3 -0.046153 -0.027886 -0.097545 -0.129424  0.984378  0.463723  0.267935   \n",
       "4 -0.026714 -0.046153 -0.027886 -0.097545 -0.551910  0.984378  0.463723   \n",
       "\n",
       "     v(k-3)  \n",
       "0 -0.178062  \n",
       "1 -1.258052  \n",
       "2  0.294494  \n",
       "3  0.789293  \n",
       "4  0.267935  "
      ]
     },
     "execution_count": 3,
     "metadata": {},
     "output_type": "execute_result"
    }
   ],
   "source": [
    "features_dfs.head()"
   ]
  },
  {
   "cell_type": "markdown",
   "metadata": {},
   "source": [
    "# Least Square Method"
   ]
  },
  {
   "cell_type": "code",
   "execution_count": 4,
   "metadata": {},
   "outputs": [],
   "source": [
    "ls_method = LeastSquaresMethod(biased=True)"
   ]
  },
  {
   "cell_type": "code",
   "execution_count": 5,
   "metadata": {},
   "outputs": [
    {
     "data": {
      "text/plain": [
       "<LeastSquaresMethod.LeastSquaresMethod at 0x7fbc38dc5e80>"
      ]
     },
     "execution_count": 5,
     "metadata": {},
     "output_type": "execute_result"
    }
   ],
   "source": [
    "ls_method.fit(X=np.array(features_dfs.drop(columns='''y(k)''')), \n",
    "              y=np.array(features_dfs['''y(k)''']))"
   ]
  },
  {
   "cell_type": "code",
   "execution_count": 6,
   "metadata": {},
   "outputs": [
    {
     "data": {
      "text/plain": [
       "1.0106898154882096"
      ]
     },
     "execution_count": 6,
     "metadata": {},
     "output_type": "execute_result"
    }
   ],
   "source": [
    "count_model_coef_rmse(ls_method, parsing_result)"
   ]
  },
  {
   "cell_type": "code",
   "execution_count": 7,
   "metadata": {},
   "outputs": [],
   "source": [
    "ls_pred = ls_method.predict(np.array(features_dfs.drop(columns='''y(k)''')))"
   ]
  },
  {
   "cell_type": "code",
   "execution_count": 9,
   "metadata": {},
   "outputs": [
    {
     "name": "stdout",
     "output_type": "stream",
     "text": [
      "{'rsse': 11.306348368472845, 'determination_coef': 0.8691696792706486}\n"
     ]
    }
   ],
   "source": [
    "print({\n",
    "    'rsse': rsse(np.array(features_dfs['''y(k)''']), ls_pred),\n",
    "    'determination_coef': determination_coef(np.array(features_dfs['''y(k)''']), ls_pred)\n",
    "})"
   ]
  },
  {
   "cell_type": "markdown",
   "metadata": {},
   "source": [
    "# Recursive Least Square Method"
   ]
  },
  {
   "cell_type": "code",
   "execution_count": 10,
   "metadata": {},
   "outputs": [],
   "source": [
    "num_features = max(max(parsing_result['out_weights'].keys()), max(parsing_result['manage_weights'].keys()))*2 + 1"
   ]
  },
  {
   "cell_type": "code",
   "execution_count": 11,
   "metadata": {},
   "outputs": [],
   "source": [
    "rls_method = RecursiveLeastSquaresMethod(coef_matrix_shape=num_features, biased=True)"
   ]
  },
  {
   "cell_type": "code",
   "execution_count": 13,
   "metadata": {},
   "outputs": [],
   "source": [
    "rls_pred = rls_method.predict_all(X=np.array(features_dfs.drop(columns='''y(k)''')), \n",
    "                                  y=np.array(features_dfs['''y(k)''']))"
   ]
  },
  {
   "cell_type": "code",
   "execution_count": 14,
   "metadata": {},
   "outputs": [
    {
     "data": {
      "text/plain": [
       "1.0046684387758302"
      ]
     },
     "execution_count": 14,
     "metadata": {},
     "output_type": "execute_result"
    }
   ],
   "source": [
    "count_model_coef_rmse(rls_method, parsing_result)"
   ]
  },
  {
   "cell_type": "code",
   "execution_count": 15,
   "metadata": {},
   "outputs": [
    {
     "name": "stdout",
     "output_type": "stream",
     "text": [
      "{'rsse': 0.012219110091415759, 'determination_coef': 0.7071789581664429}\n"
     ]
    }
   ],
   "source": [
    "print({\n",
    "    'rsse': rsse(np.array(features_dfs['''y(k)''']), rls_pred),\n",
    "    'determination_coef': determination_coef(np.array(features_dfs['''y(k)''']), rls_pred)\n",
    "})"
   ]
  }
 ],
 "metadata": {
  "kernelspec": {
   "display_name": "Python 3.6 venv",
   "language": "python",
   "name": "venv"
  },
  "language_info": {
   "codemirror_mode": {
    "name": "ipython",
    "version": 3
   },
   "file_extension": ".py",
   "mimetype": "text/x-python",
   "name": "python",
   "nbconvert_exporter": "python",
   "pygments_lexer": "ipython3",
   "version": "3.6.8"
  }
 },
 "nbformat": 4,
 "nbformat_minor": 4
}
