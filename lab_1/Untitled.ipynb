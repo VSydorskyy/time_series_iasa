{
 "cells": [
  {
   "cell_type": "code",
   "execution_count": 8,
   "metadata": {},
   "outputs": [],
   "source": [
    "import numpy as np\n",
    "import pandas as pd\n",
    "\n",
    "from parse_input_file import parse_file\n",
    "from create_feature_dfs import compose_signals_df\n",
    "from LeastSquaresMethod import LeastSquaresMethod\n",
    "from RecursiveLeastSquaresMethod import RecursiveLeastSquaresMethod\n",
    "from metrics import count_model_coef_rmse"
   ]
  },
  {
   "cell_type": "code",
   "execution_count": 9,
   "metadata": {},
   "outputs": [],
   "source": [
    "parsing_result = parse_file('Test+')\n",
    "features_dfs = compose_signals_df(parsing_result)"
   ]
  },
  {
   "cell_type": "code",
   "execution_count": 10,
   "metadata": {},
   "outputs": [
    {
     "data": {
      "text/html": [
       "<div>\n",
       "<style scoped>\n",
       "    .dataframe tbody tr th:only-of-type {\n",
       "        vertical-align: middle;\n",
       "    }\n",
       "\n",
       "    .dataframe tbody tr th {\n",
       "        vertical-align: top;\n",
       "    }\n",
       "\n",
       "    .dataframe thead th {\n",
       "        text-align: right;\n",
       "    }\n",
       "</style>\n",
       "<table border=\"1\" class=\"dataframe\">\n",
       "  <thead>\n",
       "    <tr style=\"text-align: right;\">\n",
       "      <th></th>\n",
       "      <th>y(k)</th>\n",
       "      <th>y(k-1)</th>\n",
       "      <th>y(k-2)</th>\n",
       "      <th>y(k-3)</th>\n",
       "      <th>v(k)</th>\n",
       "      <th>v(k-1)</th>\n",
       "      <th>v(k-2)</th>\n",
       "      <th>v(k-3)</th>\n",
       "    </tr>\n",
       "  </thead>\n",
       "  <tbody>\n",
       "    <tr>\n",
       "      <th>0</th>\n",
       "      <td>-0.129424</td>\n",
       "      <td>0.012543</td>\n",
       "      <td>-0.330653</td>\n",
       "      <td>-0.263688</td>\n",
       "      <td>0.789293</td>\n",
       "      <td>0.294494</td>\n",
       "      <td>-1.258052</td>\n",
       "      <td>-0.178062</td>\n",
       "    </tr>\n",
       "    <tr>\n",
       "      <th>1</th>\n",
       "      <td>-0.097545</td>\n",
       "      <td>-0.129424</td>\n",
       "      <td>0.012543</td>\n",
       "      <td>-0.330653</td>\n",
       "      <td>0.267935</td>\n",
       "      <td>0.789293</td>\n",
       "      <td>0.294494</td>\n",
       "      <td>-1.258052</td>\n",
       "    </tr>\n",
       "    <tr>\n",
       "      <th>2</th>\n",
       "      <td>-0.027886</td>\n",
       "      <td>-0.097545</td>\n",
       "      <td>-0.129424</td>\n",
       "      <td>0.012543</td>\n",
       "      <td>0.463723</td>\n",
       "      <td>0.267935</td>\n",
       "      <td>0.789293</td>\n",
       "      <td>0.294494</td>\n",
       "    </tr>\n",
       "    <tr>\n",
       "      <th>3</th>\n",
       "      <td>-0.046153</td>\n",
       "      <td>-0.027886</td>\n",
       "      <td>-0.097545</td>\n",
       "      <td>-0.129424</td>\n",
       "      <td>0.984378</td>\n",
       "      <td>0.463723</td>\n",
       "      <td>0.267935</td>\n",
       "      <td>0.789293</td>\n",
       "    </tr>\n",
       "    <tr>\n",
       "      <th>4</th>\n",
       "      <td>-0.026714</td>\n",
       "      <td>-0.046153</td>\n",
       "      <td>-0.027886</td>\n",
       "      <td>-0.097545</td>\n",
       "      <td>-0.551910</td>\n",
       "      <td>0.984378</td>\n",
       "      <td>0.463723</td>\n",
       "      <td>0.267935</td>\n",
       "    </tr>\n",
       "  </tbody>\n",
       "</table>\n",
       "</div>"
      ],
      "text/plain": [
       "       y(k)    y(k-1)    y(k-2)    y(k-3)      v(k)    v(k-1)    v(k-2)  \\\n",
       "0 -0.129424  0.012543 -0.330653 -0.263688  0.789293  0.294494 -1.258052   \n",
       "1 -0.097545 -0.129424  0.012543 -0.330653  0.267935  0.789293  0.294494   \n",
       "2 -0.027886 -0.097545 -0.129424  0.012543  0.463723  0.267935  0.789293   \n",
       "3 -0.046153 -0.027886 -0.097545 -0.129424  0.984378  0.463723  0.267935   \n",
       "4 -0.026714 -0.046153 -0.027886 -0.097545 -0.551910  0.984378  0.463723   \n",
       "\n",
       "     v(k-3)  \n",
       "0 -0.178062  \n",
       "1 -1.258052  \n",
       "2  0.294494  \n",
       "3  0.789293  \n",
       "4  0.267935  "
      ]
     },
     "execution_count": 10,
     "metadata": {},
     "output_type": "execute_result"
    }
   ],
   "source": [
    "features_dfs.head()"
   ]
  },
  {
   "cell_type": "markdown",
   "metadata": {},
   "source": [
    "# Least Square Method"
   ]
  },
  {
   "cell_type": "code",
   "execution_count": 11,
   "metadata": {},
   "outputs": [],
   "source": [
    "ls_method = LeastSquaresMethod(biased=True)"
   ]
  },
  {
   "cell_type": "code",
   "execution_count": 12,
   "metadata": {},
   "outputs": [
    {
     "data": {
      "text/plain": [
       "<LeastSquaresMethod.LeastSquaresMethod at 0x7f8e562e3d30>"
      ]
     },
     "execution_count": 12,
     "metadata": {},
     "output_type": "execute_result"
    }
   ],
   "source": [
    "ls_method.fit(X=np.array(features_dfs.drop(columns='''y(k)''')), \n",
    "              y=np.array(features_dfs['''y(k)''']))"
   ]
  },
  {
   "cell_type": "code",
   "execution_count": 13,
   "metadata": {},
   "outputs": [
    {
     "data": {
      "text/plain": [
       "1.0106898154882096"
      ]
     },
     "execution_count": 13,
     "metadata": {},
     "output_type": "execute_result"
    }
   ],
   "source": [
    "count_model_coef_rmse(ls_method, parsing_result)"
   ]
  },
  {
   "cell_type": "markdown",
   "metadata": {},
   "source": [
    "# Recursive Least Square Method"
   ]
  },
  {
   "cell_type": "code",
   "execution_count": 14,
   "metadata": {},
   "outputs": [],
   "source": [
    "num_features = max(max(parsing_result['out_weights'].keys()), max(parsing_result['manage_weights'].keys()))*2 + 1"
   ]
  },
  {
   "cell_type": "code",
   "execution_count": 15,
   "metadata": {},
   "outputs": [],
   "source": [
    "rls_method = RecursiveLeastSquaresMethod(coef_matrix_shape=num_features, biased=True)"
   ]
  },
  {
   "cell_type": "code",
   "execution_count": 16,
   "metadata": {},
   "outputs": [
    {
     "data": {
      "text/plain": [
       "array([-0.1244518 , -0.09444088, -0.02304149, -0.0523    , -0.02280916,\n",
       "        0.00351762, -0.03711391, -0.03860734,  0.00348426,  0.01666315,\n",
       "       -0.00185474, -0.00558119,  0.00098157, -0.00361371, -0.00122288,\n",
       "        0.00591591, -0.00158622, -0.00642046, -0.00089808,  0.00100676,\n",
       "        0.0078639 ,  0.00920923,  0.00317366,  0.0132045 ,  0.01586308,\n",
       "        0.01411096,  0.0217581 ,  0.01219651,  0.01369676,  0.02248833,\n",
       "        0.00961155,  0.01245953,  0.00981524, -0.00207001,  0.0060429 ,\n",
       "       -0.0026019 , -0.00199707,  0.00304575, -0.00056168,  0.00490222,\n",
       "        0.00105392,  0.00194367, -0.00164385,  0.00267861,  0.00437468,\n",
       "       -0.00393783,  0.00243563,  0.0051838 ,  0.00348727,  0.0084924 ,\n",
       "        0.00254744,  0.00485305,  0.01030633,  0.01104773,  0.01107623,\n",
       "        0.01151064,  0.01135423,  0.00880213,  0.00865844,  0.00949536,\n",
       "        0.00585711,  0.00152421,  0.01126409, -0.00175396,  0.00636259,\n",
       "        0.00583413,  0.00344034,  0.01525639,  0.0159132 ,  0.0219565 ,\n",
       "        0.02347998,  0.02332796,  0.02269899,  0.01439328,  0.01526871,\n",
       "        0.00582339,  0.00766412,  0.00716685,  0.00818869,  0.01895739,\n",
       "        0.01912808,  0.02809123,  0.03906657,  0.04234418,  0.04188241,\n",
       "        0.04139831,  0.02834747,  0.01862216,  0.01781262,  0.01614511,\n",
       "        0.0138749 ,  0.01543114,  0.02012892,  0.01740887])"
      ]
     },
     "execution_count": 16,
     "metadata": {},
     "output_type": "execute_result"
    }
   ],
   "source": [
    "rls_method.predict_all(X=np.array(features_dfs.drop(columns='''y(k)''')), \n",
    "                       y=np.array(features_dfs['''y(k)''']))"
   ]
  },
  {
   "cell_type": "code",
   "execution_count": 17,
   "metadata": {},
   "outputs": [
    {
     "data": {
      "text/plain": [
       "1.0029018620854613"
      ]
     },
     "execution_count": 17,
     "metadata": {},
     "output_type": "execute_result"
    }
   ],
   "source": [
    "count_model_coef_rmse(rls_method, parsing_result)"
   ]
  }
 ],
 "metadata": {
  "kernelspec": {
   "display_name": "Python 3.6 venv",
   "language": "python",
   "name": "venv"
  },
  "language_info": {
   "codemirror_mode": {
    "name": "ipython",
    "version": 3
   },
   "file_extension": ".py",
   "mimetype": "text/x-python",
   "name": "python",
   "nbconvert_exporter": "python",
   "pygments_lexer": "ipython3",
   "version": "3.6.8"
  }
 },
 "nbformat": 4,
 "nbformat_minor": 4
}
