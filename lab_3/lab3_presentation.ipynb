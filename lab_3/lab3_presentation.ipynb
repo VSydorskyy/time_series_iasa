{
 "cells": [
  {
   "cell_type": "code",
   "execution_count": null,
   "metadata": {},
   "outputs": [],
   "source": [
    "import numpy as np\n",
    "import pandas as pd\n",
    "from glob import glob\n",
    "\n",
    "from matplotlib import pyplot as plt\n",
    "\n",
    "from parse_input_file import parse_file\n",
    "from create_feature_dfs import compose_signals_df, create_initial_input, create_df_only_outs\n",
    "\n",
    "from statsmodels.stats.stattools import durbin_watson\n",
    "from scipy.stats import jarque_bera\n",
    "\n",
    "from ARMA import ARMA\n",
    "from metrics import akkake_criteria, rmse, determination_coef, rsse, adjusted_det_coef, log_likelihood, mean_dependent_var, std_dependent_var, shwarz_criteria   \n",
    "\n",
    "from sklearn.linear_model import LinearRegression\n",
    "from sklearn.preprocessing import StandardScaler"
   ]
  },
  {
   "cell_type": "code",
   "execution_count": null,
   "metadata": {},
   "outputs": [],
   "source": [
    "features_df_dorbin = create_df_only_outs('data/example_for_DW.txt')\n",
    "features_df_time_series = create_df_only_outs('data/rts1.txt')"
   ]
  },
  {
   "cell_type": "code",
   "execution_count": null,
   "metadata": {},
   "outputs": [],
   "source": [
    "feature_df = pd.DataFrame({'x_'+str(i):create_df_only_outs(el) for i, el in enumerate(glob('data/RTS*'))})\n",
    "\n",
    "feature_df['y'] = create_df_only_outs('data/rts1.txt')"
   ]
  },
  {
   "cell_type": "code",
   "execution_count": null,
   "metadata": {},
   "outputs": [],
   "source": [
    "feature_df.head()"
   ]
  },
  {
   "cell_type": "markdown",
   "metadata": {},
   "source": [
    "# Dorbin Watson statistic"
   ]
  },
  {
   "cell_type": "code",
   "execution_count": null,
   "metadata": {},
   "outputs": [],
   "source": [
    "print(\"Durbin Watsons statistic: {}\".format(durbin_watson(features_df_dorbin)))"
   ]
  },
  {
   "cell_type": "markdown",
   "metadata": {},
   "source": [
    "# Time Series stats"
   ]
  },
  {
   "cell_type": "code",
   "execution_count": null,
   "metadata": {},
   "outputs": [],
   "source": [
    "features_df_time_series.hist(bins=20)"
   ]
  },
  {
   "cell_type": "code",
   "execution_count": null,
   "metadata": {},
   "outputs": [],
   "source": [
    "pd.Series(data=[features_df_time_series.mean(),\n",
    "                 features_df_time_series.median(),\n",
    "                 features_df_time_series.max(),\n",
    "                 features_df_time_series.min(),\n",
    "                 features_df_time_series.std(),\n",
    "                 features_df_time_series.skew(),\n",
    "                 features_df_time_series.kurtosis(),\n",
    "                 jarque_bera(features_df_time_series)[0],\n",
    "                 jarque_bera(features_df_time_series)[1]],\n",
    "          index=['mean',\n",
    "                 'median',\n",
    "                 'max',\n",
    "                 'min',\n",
    "                 'std',\n",
    "                 'skewness',\n",
    "                 'kurtosis',\n",
    "                 'jarque_bera',\n",
    "                 'jarque_bera_prob'])"
   ]
  },
  {
   "cell_type": "markdown",
   "metadata": {},
   "source": [
    "# ARMA"
   ]
  },
  {
   "cell_type": "code",
   "execution_count": null,
   "metadata": {},
   "outputs": [],
   "source": [
    "def get_stats(y_true, y_pred, model_params):\n",
    "    print(pd.Series({\n",
    "        'akaike': akkake_criteria(y_true, y_pred, model_params),\n",
    "        'rmse': rmse(y_true, y_pred, model_params),\n",
    "        'durbin watson':durbin_watson(y_true-y_pred),\n",
    "        'determination coef':determination_coef(y_true, y_pred)\n",
    "    }))"
   ]
  },
  {
   "cell_type": "code",
   "execution_count": null,
   "metadata": {},
   "outputs": [],
   "source": [
    "arma_ma_simple_5 = ARMA(on_residuals=True)\n",
    "pred, target = arma_ma_simple_5.fit_predict(features_df_time_series)\n",
    "\n",
    "get_stats(target, pred, len(arma_ma_simple_5.arma_coefs))"
   ]
  },
  {
   "cell_type": "code",
   "execution_count": null,
   "metadata": {},
   "outputs": [],
   "source": [
    "pd.Series({\n",
    "        'akaike': akkake_criteria(target, pred, len(arma_ma_simple_5.arma_coefs)),\n",
    "        'rmse': rmse(target, pred, len(arma_ma_simple_5.arma_coefs)),\n",
    "        'durbin watson':durbin_watson(target-pred),\n",
    "        'determination coef':determination_coef(target, pred),\n",
    "        'schwarz criteria': shwarz_criteria(target, pred, len(arma_ma_simple_5.arma_coefs)),\n",
    "        'rsse': rsse(target, pred),\n",
    "        'adjusted det coef': adjusted_det_coef(target, pred, len(arma_ma_simple_5.arma_coefs)),\n",
    "        'log likelihood': log_likelihood(target, pred),\n",
    "        'mean dependent var': mean_dependent_var(target, pred),\n",
    "        'std dependent var': std_dependent_var(target, pred)\n",
    "    })"
   ]
  },
  {
   "cell_type": "code",
   "execution_count": null,
   "metadata": {},
   "outputs": [],
   "source": [
    "arma_ma_simple_5.arma_coefs"
   ]
  },
  {
   "cell_type": "code",
   "execution_count": null,
   "metadata": {},
   "outputs": [],
   "source": [
    "pred, target = arma_ma_simple_5.ar_results\n",
    "\n",
    "get_stats(target, pred, len(arma_ma_simple_5.initial_lin_reg_coefs))"
   ]
  },
  {
   "cell_type": "code",
   "execution_count": null,
   "metadata": {},
   "outputs": [],
   "source": [
    "arma_ma_simple_5.initial_lin_reg_coefs"
   ]
  },
  {
   "cell_type": "code",
   "execution_count": null,
   "metadata": {},
   "outputs": [],
   "source": [
    "arma_ma_simple_5 = ARMA(on_residuals=True, ma_window_size=10)\n",
    "pred, target = arma_ma_simple_5.fit_predict(features_df_time_series)\n",
    "\n",
    "get_stats(target, pred, len(arma_ma_simple_5.arma_coefs))"
   ]
  },
  {
   "cell_type": "code",
   "execution_count": null,
   "metadata": {},
   "outputs": [],
   "source": [
    "arma_ma_simple_5.arma_coefs"
   ]
  },
  {
   "cell_type": "code",
   "execution_count": null,
   "metadata": {},
   "outputs": [],
   "source": [
    "arma_ma_simple_5 = ARMA(on_residuals=True, ma_type='exp')\n",
    "pred, target = arma_ma_simple_5.fit_predict(features_df_time_series)\n",
    "\n",
    "get_stats(target, pred, len(arma_ma_simple_5.arma_coefs))"
   ]
  },
  {
   "cell_type": "code",
   "execution_count": null,
   "metadata": {},
   "outputs": [],
   "source": [
    "arma_ma_simple_5.arma_coefs"
   ]
  },
  {
   "cell_type": "code",
   "execution_count": null,
   "metadata": {},
   "outputs": [],
   "source": [
    "arma_ma_simple_5 = ARMA(on_residuals=True, ma_type='exp', ma_window_size=10)\n",
    "pred, target = arma_ma_simple_5.fit_predict(features_df_time_series)\n",
    "\n",
    "get_stats(target, pred, len(arma_ma_simple_5.arma_coefs))"
   ]
  },
  {
   "cell_type": "code",
   "execution_count": null,
   "metadata": {},
   "outputs": [],
   "source": [
    "arma_ma_simple_5.arma_coefs"
   ]
  },
  {
   "cell_type": "code",
   "execution_count": null,
   "metadata": {},
   "outputs": [],
   "source": [
    "arma_ma_simple_5 = ARMA(on_residuals=False)\n",
    "pred, target = arma_ma_simple_5.fit_predict(features_df_time_series)\n",
    "\n",
    "get_stats(target, pred, len(arma_ma_simple_5.arma_coefs))"
   ]
  },
  {
   "cell_type": "code",
   "execution_count": null,
   "metadata": {},
   "outputs": [],
   "source": [
    "arma_ma_simple_5.arma_coefs"
   ]
  },
  {
   "cell_type": "code",
   "execution_count": null,
   "metadata": {},
   "outputs": [],
   "source": [
    "arma_ma_simple_5 = ARMA(on_residuals=False, ma_window_size=10)\n",
    "pred, target = arma_ma_simple_5.fit_predict(features_df_time_series)\n",
    "\n",
    "get_stats(target, pred, len(arma_ma_simple_5.arma_coefs))"
   ]
  },
  {
   "cell_type": "code",
   "execution_count": null,
   "metadata": {},
   "outputs": [],
   "source": [
    "arma_ma_simple_5.arma_coefs"
   ]
  },
  {
   "cell_type": "code",
   "execution_count": null,
   "metadata": {},
   "outputs": [],
   "source": [
    "arma_ma_simple_5 = ARMA(on_residuals=False, ma_type='exp')\n",
    "pred, target = arma_ma_simple_5.fit_predict(features_df_time_series)\n",
    "\n",
    "get_stats(target, pred, len(arma_ma_simple_5.arma_coefs))"
   ]
  },
  {
   "cell_type": "code",
   "execution_count": null,
   "metadata": {},
   "outputs": [],
   "source": [
    "arma_ma_simple_5.arma_coefs"
   ]
  },
  {
   "cell_type": "code",
   "execution_count": null,
   "metadata": {},
   "outputs": [],
   "source": [
    "arma_ma_simple_5 = ARMA(on_residuals=False, ma_type='exp', ma_window_size=10)\n",
    "pred, target = arma_ma_simple_5.fit_predict(features_df_time_series)\n",
    "\n",
    "get_stats(target, pred, len(arma_ma_simple_5.arma_coefs))"
   ]
  },
  {
   "cell_type": "code",
   "execution_count": null,
   "metadata": {},
   "outputs": [],
   "source": [
    "arma_ma_simple_5.arma_coefs"
   ]
  },
  {
   "cell_type": "markdown",
   "metadata": {},
   "source": [
    "# Multiple regression"
   ]
  },
  {
   "cell_type": "code",
   "execution_count": null,
   "metadata": {},
   "outputs": [],
   "source": [
    "feature_df.corr()"
   ]
  },
  {
   "cell_type": "code",
   "execution_count": null,
   "metadata": {},
   "outputs": [],
   "source": [
    "scaled_feature_df = StandardScaler().fit_transform(feature_df)\n",
    "feature_df = pd.DataFrame(scaled_feature_df, columns=feature_df.columns)"
   ]
  },
  {
   "cell_type": "code",
   "execution_count": null,
   "metadata": {},
   "outputs": [],
   "source": [
    "linear_reg = LinearRegression()\n",
    "linear_reg.fit(feature_df.drop(columns='y'), feature_df['y'])\n",
    "pred = linear_reg.predict(feature_df.drop(columns='y'))\n",
    "\n",
    "get_stats(feature_df['y'], pred, 7)"
   ]
  },
  {
   "cell_type": "code",
   "execution_count": null,
   "metadata": {},
   "outputs": [],
   "source": [
    "pd.Series({\n",
    "        'akaike': akkake_criteria(feature_df['y'], pred, 7),\n",
    "        'rmse': rmse(feature_df['y'], pred, 7),\n",
    "        'durbin watson':durbin_watson(feature_df['y'] - pred),\n",
    "        'determination coef':determination_coef(feature_df['y'], pred),\n",
    "        'schwarz criteria': shwarz_criteria(feature_df['y'], pred, 7),\n",
    "        'rsse': rsse(feature_df['y'], pred),\n",
    "        'adjusted det coef': adjusted_det_coef(feature_df['y'], pred, 7),\n",
    "        'log likelihood': log_likelihood(feature_df['y'], pred),\n",
    "        'mean dependent var': mean_dependent_var(feature_df['y'], pred),\n",
    "        'std dependent var': std_dependent_var(feature_df['y'], pred)\n",
    "    })"
   ]
  },
  {
   "cell_type": "code",
   "execution_count": null,
   "metadata": {},
   "outputs": [],
   "source": [
    "linear_reg.intercept_, linear_reg.coef_"
   ]
  },
  {
   "cell_type": "code",
   "execution_count": null,
   "metadata": {},
   "outputs": [],
   "source": [
    "glob('data/RTS*')"
   ]
  },
  {
   "cell_type": "markdown",
   "metadata": {},
   "source": [
    "# Multiple ARMA"
   ]
  },
  {
   "cell_type": "code",
   "execution_count": null,
   "metadata": {},
   "outputs": [],
   "source": [
    "arma_ma_simple_5 = ARMA(on_residuals=True, ma_window_size=5)\n",
    "pred, target = arma_ma_simple_5.fit_predict(feature_df['y'], feature_df.drop(columns='y'))\n",
    "\n",
    "get_stats(target, pred, len(arma_ma_simple_5.arma_coefs))"
   ]
  },
  {
   "cell_type": "code",
   "execution_count": null,
   "metadata": {},
   "outputs": [],
   "source": [
    "pd.Series({\n",
    "        'akaike': akkake_criteria(target, pred, len(arma_ma_simple_5.arma_coefs)),\n",
    "        'rmse': rmse(target, pred, len(arma_ma_simple_5.arma_coefs)),\n",
    "        'durbin watson':durbin_watson(target-pred),\n",
    "        'determination coef':determination_coef(target, pred),\n",
    "        'schwarz criteria': shwarz_criteria(target, pred, len(arma_ma_simple_5.arma_coefs)),\n",
    "        'rsse': rsse(target, pred),\n",
    "        'adjusted det coef': adjusted_det_coef(target, pred, len(arma_ma_simple_5.arma_coefs)),\n",
    "        'log likelihood': log_likelihood(target, pred),\n",
    "        'mean dependent var': mean_dependent_var(target, pred),\n",
    "        'std dependent var': std_dependent_var(target, pred)\n",
    "    })"
   ]
  },
  {
   "cell_type": "code",
   "execution_count": null,
   "metadata": {},
   "outputs": [],
   "source": [
    "arma_ma_simple_5.arma_coefs"
   ]
  },
  {
   "cell_type": "code",
   "execution_count": null,
   "metadata": {},
   "outputs": [],
   "source": []
  }
 ],
 "metadata": {
  "kernelspec": {
   "display_name": "Python 3.6 venv",
   "language": "python",
   "name": "venv"
  },
  "language_info": {
   "codemirror_mode": {
    "name": "ipython",
    "version": 3
   },
   "file_extension": ".py",
   "mimetype": "text/x-python",
   "name": "python",
   "nbconvert_exporter": "python",
   "pygments_lexer": "ipython3",
   "version": "3.6.8"
  }
 },
 "nbformat": 4,
 "nbformat_minor": 4
}
