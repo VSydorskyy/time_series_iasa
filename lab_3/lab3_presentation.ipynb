{
 "cells": [
  {
   "cell_type": "code",
   "execution_count": 1,
   "metadata": {},
   "outputs": [],
   "source": [
    "import numpy as np\n",
    "import pandas as pd\n",
    "from glob import glob\n",
    "\n",
    "from matplotlib import pyplot as plt\n",
    "\n",
    "from parse_input_file import parse_file\n",
    "from create_feature_dfs import compose_signals_df, create_initial_input, create_df_only_outs\n",
    "\n",
    "from statsmodels.stats.stattools import durbin_watson\n",
    "from scipy.stats import jarque_bera\n",
    "\n",
    "from ARMA import ARMA\n",
    "from metrics import akkake_criteria, rmse, determination_coef, rsse, adjusted_det_coef, log_likelihood, mean_dependent_var, std_dependent_var, shwarz_criteria   \n",
    "\n",
    "from sklearn.linear_model import LinearRegression\n",
    "from sklearn.preprocessing import StandardScaler"
   ]
  },
  {
   "cell_type": "code",
   "execution_count": 2,
   "metadata": {},
   "outputs": [],
   "source": [
    "features_df_dorbin = create_df_only_outs('data/example_for_DW.txt')\n",
    "features_df_time_series = create_df_only_outs('data/rts1.txt')"
   ]
  },
  {
   "cell_type": "code",
   "execution_count": 3,
   "metadata": {},
   "outputs": [],
   "source": [
    "feature_df = pd.DataFrame({'x_'+str(i):create_df_only_outs(el) for i, el in enumerate(glob('data/RTS*'))})\n",
    "\n",
    "feature_df['y'] = create_df_only_outs('data/rts1.txt')"
   ]
  },
  {
   "cell_type": "code",
   "execution_count": 4,
   "metadata": {},
   "outputs": [
    {
     "data": {
      "text/html": [
       "<div>\n",
       "<style scoped>\n",
       "    .dataframe tbody tr th:only-of-type {\n",
       "        vertical-align: middle;\n",
       "    }\n",
       "\n",
       "    .dataframe tbody tr th {\n",
       "        vertical-align: top;\n",
       "    }\n",
       "\n",
       "    .dataframe thead th {\n",
       "        text-align: right;\n",
       "    }\n",
       "</style>\n",
       "<table border=\"1\" class=\"dataframe\">\n",
       "  <thead>\n",
       "    <tr style=\"text-align: right;\">\n",
       "      <th></th>\n",
       "      <th>x_0</th>\n",
       "      <th>x_1</th>\n",
       "      <th>x_2</th>\n",
       "      <th>x_3</th>\n",
       "      <th>x_4</th>\n",
       "      <th>x_5</th>\n",
       "      <th>x_6</th>\n",
       "      <th>y</th>\n",
       "    </tr>\n",
       "  </thead>\n",
       "  <tbody>\n",
       "    <tr>\n",
       "      <th>0</th>\n",
       "      <td>374.12</td>\n",
       "      <td>786.31</td>\n",
       "      <td>363.97</td>\n",
       "      <td>408.62</td>\n",
       "      <td>288.90</td>\n",
       "      <td>465.29</td>\n",
       "      <td>322.85</td>\n",
       "      <td>2296.56</td>\n",
       "    </tr>\n",
       "    <tr>\n",
       "      <th>1</th>\n",
       "      <td>376.17</td>\n",
       "      <td>788.79</td>\n",
       "      <td>368.81</td>\n",
       "      <td>409.33</td>\n",
       "      <td>289.56</td>\n",
       "      <td>463.22</td>\n",
       "      <td>322.59</td>\n",
       "      <td>2306.87</td>\n",
       "    </tr>\n",
       "    <tr>\n",
       "      <th>2</th>\n",
       "      <td>380.34</td>\n",
       "      <td>792.27</td>\n",
       "      <td>369.50</td>\n",
       "      <td>413.30</td>\n",
       "      <td>289.20</td>\n",
       "      <td>463.92</td>\n",
       "      <td>324.09</td>\n",
       "      <td>2313.90</td>\n",
       "    </tr>\n",
       "    <tr>\n",
       "      <th>3</th>\n",
       "      <td>382.76</td>\n",
       "      <td>796.21</td>\n",
       "      <td>376.52</td>\n",
       "      <td>414.34</td>\n",
       "      <td>293.30</td>\n",
       "      <td>465.09</td>\n",
       "      <td>328.12</td>\n",
       "      <td>2339.79</td>\n",
       "    </tr>\n",
       "    <tr>\n",
       "      <th>4</th>\n",
       "      <td>386.37</td>\n",
       "      <td>793.43</td>\n",
       "      <td>376.05</td>\n",
       "      <td>417.96</td>\n",
       "      <td>291.39</td>\n",
       "      <td>468.23</td>\n",
       "      <td>328.72</td>\n",
       "      <td>2330.87</td>\n",
       "    </tr>\n",
       "  </tbody>\n",
       "</table>\n",
       "</div>"
      ],
      "text/plain": [
       "      x_0     x_1     x_2     x_3     x_4     x_5     x_6        y\n",
       "0  374.12  786.31  363.97  408.62  288.90  465.29  322.85  2296.56\n",
       "1  376.17  788.79  368.81  409.33  289.56  463.22  322.59  2306.87\n",
       "2  380.34  792.27  369.50  413.30  289.20  463.92  324.09  2313.90\n",
       "3  382.76  796.21  376.52  414.34  293.30  465.09  328.12  2339.79\n",
       "4  386.37  793.43  376.05  417.96  291.39  468.23  328.72  2330.87"
      ]
     },
     "execution_count": 4,
     "metadata": {},
     "output_type": "execute_result"
    }
   ],
   "source": [
    "feature_df.head()"
   ]
  },
  {
   "cell_type": "markdown",
   "metadata": {},
   "source": [
    "# Dorbin Watson statistic"
   ]
  },
  {
   "cell_type": "code",
   "execution_count": 5,
   "metadata": {},
   "outputs": [
    {
     "name": "stdout",
     "output_type": "stream",
     "text": [
      "Durbin Watsons statistic: 1.2288100804239723\n"
     ]
    }
   ],
   "source": [
    "print(\"Durbin Watsons statistic: {}\".format(durbin_watson(features_df_dorbin)))"
   ]
  },
  {
   "cell_type": "markdown",
   "metadata": {},
   "source": [
    "# Time Series stats"
   ]
  },
  {
   "cell_type": "code",
   "execution_count": 6,
   "metadata": {},
   "outputs": [
    {
     "data": {
      "text/plain": [
       "<matplotlib.axes._subplots.AxesSubplot at 0x7f76c0d08518>"
      ]
     },
     "execution_count": 6,
     "metadata": {},
     "output_type": "execute_result"
    },
    {
     "data": {
      "image/png": "[encoded data removed]",
      "text/plain": [
       "<Figure size 432x288 with 1 Axes>"
      ]
     },
     "metadata": {
      "needs_background": "light"
     },
     "output_type": "display_data"
    }
   ],
   "source": [
    "features_df_time_series.hist(bins=20)"
   ]
  },
  {
   "cell_type": "code",
   "execution_count": 7,
   "metadata": {},
   "outputs": [
    {
     "data": {
      "text/plain": [
       "mean                2.043537e+03\n",
       "median              2.068170e+03\n",
       "max                 2.487920e+03\n",
       "min                 1.058840e+03\n",
       "std                 2.899214e+02\n",
       "skewness           -1.082895e+00\n",
       "kurtosis            1.442272e+00\n",
       "jarque_bera         4.809477e+01\n",
       "jarque_bera_prob    3.600420e-11\n",
       "dtype: float64"
      ]
     },
     "execution_count": 7,
     "metadata": {},
     "output_type": "execute_result"
    }
   ],
   "source": [
    "pd.Series(data=[features_df_time_series.mean(),\n",
    "                 features_df_time_series.median(),\n",
    "                 features_df_time_series.max(),\n",
    "                 features_df_time_series.min(),\n",
    "                 features_df_time_series.std(),\n",
    "                 features_df_time_series.skew(),\n",
    "                 features_df_time_series.kurtosis(),\n",
    "                 jarque_bera(features_df_time_series)[0],\n",
    "                 jarque_bera(features_df_time_series)[1]],\n",
    "          index=['mean',\n",
    "                 'median',\n",
    "                 'max',\n",
    "                 'min',\n",
    "                 'std',\n",
    "                 'skewness',\n",
    "                 'kurtosis',\n",
    "                 'jarque_bera',\n",
    "                 'jarque_bera_prob'])"
   ]
  },
  {
   "cell_type": "markdown",
   "metadata": {},
   "source": [
    "# ARMA"
   ]
  },
  {
   "cell_type": "code",
   "execution_count": 41,
   "metadata": {},
   "outputs": [],
   "source": [
    "def get_complete_stats(y_true, y_pred, model_params):\n",
    "    print(pd.Series({\n",
    "                     'akaike': akkake_criteria(y_true, y_pred, model_params),\n",
    "                     'rmse': rmse(y_true, y_pred, model_params),\n",
    "                     'durbin watson':durbin_watson(y_true-y_pred),\n",
    "                     'determination coef':determination_coef(y_true, y_pred),\n",
    "                     'schwarz criteria': shwarz_criteria(y_true, y_pred, model_params),\n",
    "                     'rsse': rsse(y_true, y_pred),\n",
    "                     'adjusted det coef': adjusted_det_coef(y_true, y_pred, model_params),\n",
    "                     'log likelihood': log_likelihood(y_true, y_pred),\n",
    "                     'mean dependent var': mean_dependent_var(y_true, y_pred),\n",
    "                     'std dependent var': std_dependent_var(y_true, y_pred)\n",
    "                    }))"
   ]
  },
  {
   "cell_type": "code",
   "execution_count": 9,
   "metadata": {},
   "outputs": [],
   "source": [
    "def get_stats(y_true, y_pred, model_params):\n",
    "    print(pd.Series({\n",
    "        'akaike': akkake_criteria(y_true, y_pred, model_params),\n",
    "        'rmse': rmse(y_true, y_pred, model_params),\n",
    "        'durbin watson':durbin_watson(y_true-y_pred),\n",
    "        'determination coef':determination_coef(y_true, y_pred)\n",
    "    }))"
   ]
  },
  {
   "cell_type": "code",
   "execution_count": 11,
   "metadata": {},
   "outputs": [
    {
     "name": "stdout",
     "output_type": "stream",
     "text": [
      "akaike                10.293534\n",
      "rmse                  41.232796\n",
      "durbin watson          1.742176\n",
      "determination coef     0.978219\n",
      "dtype: float64\n"
     ]
    }
   ],
   "source": [
    "arma_ma_simple_5 = ARMA(on_residuals=True)\n",
    "pred, target = arma_ma_simple_5.fit_predict(features_df_time_series)\n",
    "\n",
    "get_stats(target, pred, len(arma_ma_simple_5.arma_coefs))"
   ]
  },
  {
   "cell_type": "code",
   "execution_count": 12,
   "metadata": {},
   "outputs": [
    {
     "data": {
      "text/plain": [
       "[50.35456463009518, 0.9729176620684906, 1]"
      ]
     },
     "execution_count": 12,
     "metadata": {},
     "output_type": "execute_result"
    }
   ],
   "source": [
    "arma_ma_simple_5.arma_coefs"
   ]
  },
  {
   "cell_type": "code",
   "execution_count": 13,
   "metadata": {},
   "outputs": [
    {
     "name": "stdout",
     "output_type": "stream",
     "text": [
      "akaike                10.525471\n",
      "rmse                  46.440853\n",
      "durbin watson          1.632104\n",
      "determination coef     0.974521\n",
      "dtype: float64\n"
     ]
    }
   ],
   "source": [
    "pred, target = arma_ma_simple_5.ar_results\n",
    "\n",
    "get_stats(target, pred, len(arma_ma_simple_5.initial_lin_reg_coefs))"
   ]
  },
  {
   "cell_type": "code",
   "execution_count": 14,
   "metadata": {},
   "outputs": [
    {
     "data": {
      "text/plain": [
       "[-14.23885537271076, 1.0041926107395]"
      ]
     },
     "execution_count": 14,
     "metadata": {},
     "output_type": "execute_result"
    }
   ],
   "source": [
    "arma_ma_simple_5.initial_lin_reg_coefs"
   ]
  },
  {
   "cell_type": "code",
   "execution_count": 15,
   "metadata": {},
   "outputs": [
    {
     "name": "stdout",
     "output_type": "stream",
     "text": [
      "akaike                10.349241\n",
      "rmse                  42.386670\n",
      "durbin watson          1.667709\n",
      "determination coef     0.978330\n",
      "dtype: float64\n"
     ]
    }
   ],
   "source": [
    "arma_ma_simple_5 = ARMA(on_residuals=True, ma_window_size=10)\n",
    "pred, target = arma_ma_simple_5.fit_predict(features_df_time_series)\n",
    "\n",
    "get_stats(target, pred, len(arma_ma_simple_5.arma_coefs))"
   ]
  },
  {
   "cell_type": "code",
   "execution_count": 16,
   "metadata": {},
   "outputs": [
    {
     "data": {
      "text/plain": [
       "[43.68643765020829, 0.9766064728004061, 1]"
      ]
     },
     "execution_count": 16,
     "metadata": {},
     "output_type": "execute_result"
    }
   ],
   "source": [
    "arma_ma_simple_5.arma_coefs"
   ]
  },
  {
   "cell_type": "code",
   "execution_count": 17,
   "metadata": {},
   "outputs": [
    {
     "name": "stdout",
     "output_type": "stream",
     "text": [
      "akaike                10.903322\n",
      "rmse                  55.931504\n",
      "durbin watson          1.659731\n",
      "determination coef     0.983192\n",
      "dtype: float64\n"
     ]
    }
   ],
   "source": [
    "arma_ma_simple_5 = ARMA(on_residuals=True, ma_type='exp')\n",
    "pred, target = arma_ma_simple_5.fit_predict(features_df_time_series)\n",
    "\n",
    "get_stats(target, pred, len(arma_ma_simple_5.arma_coefs))"
   ]
  },
  {
   "cell_type": "code",
   "execution_count": 18,
   "metadata": {},
   "outputs": [
    {
     "data": {
      "text/plain": [
       "[58.08944735417299, 0.9689546905227694, 1]"
      ]
     },
     "execution_count": 18,
     "metadata": {},
     "output_type": "execute_result"
    }
   ],
   "source": [
    "arma_ma_simple_5.arma_coefs"
   ]
  },
  {
   "cell_type": "code",
   "execution_count": 19,
   "metadata": {},
   "outputs": [
    {
     "name": "stdout",
     "output_type": "stream",
     "text": [
      "akaike                10.805391\n",
      "rmse                  53.245265\n",
      "durbin watson          1.585412\n",
      "determination coef     0.985113\n",
      "dtype: float64\n"
     ]
    }
   ],
   "source": [
    "arma_ma_simple_5 = ARMA(on_residuals=True, ma_type='exp', ma_window_size=10)\n",
    "pred, target = arma_ma_simple_5.fit_predict(features_df_time_series)\n",
    "\n",
    "get_stats(target, pred, len(arma_ma_simple_5.arma_coefs))"
   ]
  },
  {
   "cell_type": "code",
   "execution_count": 20,
   "metadata": {},
   "outputs": [
    {
     "data": {
      "text/plain": [
       "[35.72554061254232, 0.98027735727919, 1]"
      ]
     },
     "execution_count": 20,
     "metadata": {},
     "output_type": "execute_result"
    }
   ],
   "source": [
    "arma_ma_simple_5.arma_coefs"
   ]
  },
  {
   "cell_type": "code",
   "execution_count": 21,
   "metadata": {},
   "outputs": [
    {
     "name": "stdout",
     "output_type": "stream",
     "text": [
      "akaike                10.188492\n",
      "rmse                  39.012508\n",
      "durbin watson          1.550423\n",
      "determination coef     0.975485\n",
      "dtype: float64\n"
     ]
    }
   ],
   "source": [
    "arma_ma_simple_5 = ARMA(on_residuals=False)\n",
    "pred, target = arma_ma_simple_5.fit_predict(features_df_time_series)\n",
    "\n",
    "get_stats(target, pred, len(arma_ma_simple_5.arma_coefs))"
   ]
  },
  {
   "cell_type": "code",
   "execution_count": 22,
   "metadata": {},
   "outputs": [
    {
     "data": {
      "text/plain": [
       "[6.610079021112776, 0.6950011560255659, 1, -0.6999869515123424]"
      ]
     },
     "execution_count": 22,
     "metadata": {},
     "output_type": "execute_result"
    }
   ],
   "source": [
    "arma_ma_simple_5.arma_coefs"
   ]
  },
  {
   "cell_type": "code",
   "execution_count": 23,
   "metadata": {},
   "outputs": [
    {
     "name": "stdout",
     "output_type": "stream",
     "text": [
      "akaike                10.298158\n",
      "rmse                  41.197582\n",
      "durbin watson          1.591986\n",
      "determination coef     0.977094\n",
      "dtype: float64\n"
     ]
    }
   ],
   "source": [
    "arma_ma_simple_5 = ARMA(on_residuals=False, ma_window_size=10)\n",
    "pred, target = arma_ma_simple_5.fit_predict(features_df_time_series)\n",
    "\n",
    "get_stats(target, pred, len(arma_ma_simple_5.arma_coefs))"
   ]
  },
  {
   "cell_type": "code",
   "execution_count": 24,
   "metadata": {},
   "outputs": [
    {
     "data": {
      "text/plain": [
       "[-6.0488838919705294, 0.8430218439927324, 1, -0.8413475029910644]"
      ]
     },
     "execution_count": 24,
     "metadata": {},
     "output_type": "execute_result"
    }
   ],
   "source": [
    "arma_ma_simple_5.arma_coefs"
   ]
  },
  {
   "cell_type": "code",
   "execution_count": 25,
   "metadata": {},
   "outputs": [
    {
     "name": "stdout",
     "output_type": "stream",
     "text": [
      "akaike                10.821821\n",
      "rmse                  53.546319\n",
      "durbin watson          1.520633\n",
      "determination coef     0.979873\n",
      "dtype: float64\n"
     ]
    }
   ],
   "source": [
    "arma_ma_simple_5 = ARMA(on_residuals=False, ma_type='exp')\n",
    "pred, target = arma_ma_simple_5.fit_predict(features_df_time_series)\n",
    "\n",
    "get_stats(target, pred, len(arma_ma_simple_5.arma_coefs))"
   ]
  },
  {
   "cell_type": "code",
   "execution_count": 26,
   "metadata": {},
   "outputs": [
    {
     "data": {
      "text/plain": [
       "[-3.209437475112292, 0.7694092732517194, 1, -0.7703875672955831]"
      ]
     },
     "execution_count": 26,
     "metadata": {},
     "output_type": "execute_result"
    }
   ],
   "source": [
    "arma_ma_simple_5.arma_coefs"
   ]
  },
  {
   "cell_type": "code",
   "execution_count": 27,
   "metadata": {},
   "outputs": [
    {
     "name": "stdout",
     "output_type": "stream",
     "text": [
      "akaike                10.781117\n",
      "rmse                  52.449939\n",
      "durbin watson          1.543327\n",
      "determination coef     0.983885\n",
      "dtype: float64\n"
     ]
    }
   ],
   "source": [
    "arma_ma_simple_5 = ARMA(on_residuals=False, ma_type='exp', ma_window_size=10)\n",
    "pred, target = arma_ma_simple_5.fit_predict(features_df_time_series)\n",
    "\n",
    "get_stats(target, pred, len(arma_ma_simple_5.arma_coefs))"
   ]
  },
  {
   "cell_type": "code",
   "execution_count": 28,
   "metadata": {},
   "outputs": [
    {
     "data": {
      "text/plain": [
       "[-14.176484795382137, 0.9171922823615464, 1, -0.9118539167493523]"
      ]
     },
     "execution_count": 28,
     "metadata": {},
     "output_type": "execute_result"
    }
   ],
   "source": [
    "arma_ma_simple_5.arma_coefs"
   ]
  },
  {
   "cell_type": "code",
   "execution_count": 29,
   "metadata": {},
   "outputs": [
    {
     "name": "stdout",
     "output_type": "stream",
     "text": [
      "akaike                11.769978\n",
      "rmse                  86.023944\n",
      "durbin watson          0.400155\n",
      "determination coef     0.950277\n",
      "dtype: float64\n"
     ]
    }
   ],
   "source": [
    "arma_ma_simple_5 = ARMA(on_residuals=False, use_own_ma_coefs=True)\n",
    "pred, target = arma_ma_simple_5.fit_predict(features_df_time_series)\n",
    "\n",
    "get_stats(target, pred, len(arma_ma_simple_5.arma_coefs))"
   ]
  },
  {
   "cell_type": "code",
   "execution_count": 30,
   "metadata": {},
   "outputs": [
    {
     "data": {
      "text/plain": [
       "[-317.4171705849278, -0.8580745989855552, 1, 1.0]"
      ]
     },
     "execution_count": 30,
     "metadata": {},
     "output_type": "execute_result"
    }
   ],
   "source": [
    "arma_ma_simple_5.arma_coefs"
   ]
  },
  {
   "cell_type": "code",
   "execution_count": 31,
   "metadata": {},
   "outputs": [
    {
     "name": "stdout",
     "output_type": "stream",
     "text": [
      "akaike                 12.529508\n",
      "rmse                  125.719658\n",
      "durbin watson           0.181011\n",
      "determination coef      0.950632\n",
      "dtype: float64\n"
     ]
    }
   ],
   "source": [
    "arma_ma_simple_5 = ARMA(on_residuals=False, ma_window_size=10, use_own_ma_coefs=True)\n",
    "pred, target = arma_ma_simple_5.fit_predict(features_df_time_series)\n",
    "\n",
    "get_stats(target, pred, len(arma_ma_simple_5.arma_coefs))"
   ]
  },
  {
   "cell_type": "code",
   "execution_count": 32,
   "metadata": {},
   "outputs": [
    {
     "data": {
      "text/plain": [
       "[-729.4276365414855, -0.6674670254241115, 1, 1.0]"
      ]
     },
     "execution_count": 32,
     "metadata": {},
     "output_type": "execute_result"
    }
   ],
   "source": [
    "arma_ma_simple_5.arma_coefs"
   ]
  },
  {
   "cell_type": "code",
   "execution_count": 33,
   "metadata": {},
   "outputs": [
    {
     "name": "stdout",
     "output_type": "stream",
     "text": [
      "akaike                 12.707668\n",
      "rmse                  137.478937\n",
      "durbin watson           0.288403\n",
      "determination coef      0.949530\n",
      "dtype: float64\n"
     ]
    }
   ],
   "source": [
    "arma_ma_simple_5 = ARMA(on_residuals=False, ma_type='exp', use_own_ma_coefs=True)\n",
    "pred, target = arma_ma_simple_5.fit_predict(features_df_time_series)\n",
    "\n",
    "get_stats(target, pred, len(arma_ma_simple_5.arma_coefs))"
   ]
  },
  {
   "cell_type": "code",
   "execution_count": 34,
   "metadata": {},
   "outputs": [
    {
     "data": {
      "text/plain": [
       "[-575.1863039506036, -0.7415620926513266, 1, 1.0]"
      ]
     },
     "execution_count": 34,
     "metadata": {},
     "output_type": "execute_result"
    }
   ],
   "source": [
    "arma_ma_simple_5.arma_coefs"
   ]
  },
  {
   "cell_type": "code",
   "execution_count": 35,
   "metadata": {},
   "outputs": [
    {
     "name": "stdout",
     "output_type": "stream",
     "text": [
      "akaike                 13.602095\n",
      "rmse                  214.937683\n",
      "durbin watson           0.101896\n",
      "determination coef      0.949270\n",
      "dtype: float64\n"
     ]
    }
   ],
   "source": [
    "arma_ma_simple_5 = ARMA(on_residuals=False, ma_type='exp', ma_window_size=10, use_own_ma_coefs=True)\n",
    "pred, target = arma_ma_simple_5.fit_predict(features_df_time_series)\n",
    "\n",
    "get_stats(target, pred, len(arma_ma_simple_5.arma_coefs))"
   ]
  },
  {
   "cell_type": "code",
   "execution_count": 36,
   "metadata": {},
   "outputs": [
    {
     "data": {
      "text/plain": [
       "[-1342.2004024532982, -0.3889713892038295, 1, 1.0]"
      ]
     },
     "execution_count": 36,
     "metadata": {},
     "output_type": "execute_result"
    }
   ],
   "source": [
    "arma_ma_simple_5.arma_coefs"
   ]
  },
  {
   "cell_type": "markdown",
   "metadata": {},
   "source": [
    "## Best model"
   ]
  },
  {
   "cell_type": "code",
   "execution_count": 37,
   "metadata": {},
   "outputs": [
    {
     "name": "stdout",
     "output_type": "stream",
     "text": [
      "akaike                10.188492\n",
      "rmse                  39.012508\n",
      "durbin watson          1.550423\n",
      "determination coef     0.975485\n",
      "dtype: float64\n"
     ]
    }
   ],
   "source": [
    "arma_ma_simple_5 = ARMA(on_residuals=False)\n",
    "pred, target = arma_ma_simple_5.fit_predict(features_df_time_series)\n",
    "\n",
    "get_stats(target, pred, len(arma_ma_simple_5.arma_coefs))"
   ]
  },
  {
   "cell_type": "code",
   "execution_count": 38,
   "metadata": {},
   "outputs": [
    {
     "data": {
      "text/plain": [
       "[6.610079021112776, 0.6950011560255659, 1, -0.6999869515123424]"
      ]
     },
     "execution_count": 38,
     "metadata": {},
     "output_type": "execute_result"
    }
   ],
   "source": [
    "arma_ma_simple_5.arma_coefs"
   ]
  },
  {
   "cell_type": "code",
   "execution_count": 42,
   "metadata": {},
   "outputs": [
    {
     "name": "stdout",
     "output_type": "stream",
     "text": [
      "akaike                1.018849e+01\n",
      "rmse                  3.901251e+01\n",
      "durbin watson         1.550423e+00\n",
      "determination coef    9.754852e-01\n",
      "schwarz criteria      1.026140e+01\n",
      "rsse                  2.572139e+05\n",
      "adjusted det coef     9.504184e-01\n",
      "log likelihood       -8.773045e+02\n",
      "mean dependent var   -3.969182e-13\n",
      "std dependent var     3.867079e+01\n",
      "dtype: float64\n"
     ]
    }
   ],
   "source": [
    "get_complete_stats(target, pred, len(arma_ma_simple_5.arma_coefs))"
   ]
  },
  {
   "cell_type": "markdown",
   "metadata": {},
   "source": [
    "# Multiple regression"
   ]
  },
  {
   "cell_type": "code",
   "execution_count": 43,
   "metadata": {},
   "outputs": [
    {
     "data": {
      "text/html": [
       "<div>\n",
       "<style scoped>\n",
       "    .dataframe tbody tr th:only-of-type {\n",
       "        vertical-align: middle;\n",
       "    }\n",
       "\n",
       "    .dataframe tbody tr th {\n",
       "        vertical-align: top;\n",
       "    }\n",
       "\n",
       "    .dataframe thead th {\n",
       "        text-align: right;\n",
       "    }\n",
       "</style>\n",
       "<table border=\"1\" class=\"dataframe\">\n",
       "  <thead>\n",
       "    <tr style=\"text-align: right;\">\n",
       "      <th></th>\n",
       "      <th>x_0</th>\n",
       "      <th>x_1</th>\n",
       "      <th>x_2</th>\n",
       "      <th>x_3</th>\n",
       "      <th>x_4</th>\n",
       "      <th>x_5</th>\n",
       "      <th>x_6</th>\n",
       "      <th>y</th>\n",
       "    </tr>\n",
       "  </thead>\n",
       "  <tbody>\n",
       "    <tr>\n",
       "      <th>x_0</th>\n",
       "      <td>1.000000</td>\n",
       "      <td>0.960564</td>\n",
       "      <td>0.851709</td>\n",
       "      <td>0.897707</td>\n",
       "      <td>0.682340</td>\n",
       "      <td>0.929083</td>\n",
       "      <td>0.956929</td>\n",
       "      <td>0.848433</td>\n",
       "    </tr>\n",
       "    <tr>\n",
       "      <th>x_1</th>\n",
       "      <td>0.960564</td>\n",
       "      <td>1.000000</td>\n",
       "      <td>0.808881</td>\n",
       "      <td>0.828220</td>\n",
       "      <td>0.739310</td>\n",
       "      <td>0.878301</td>\n",
       "      <td>0.925300</td>\n",
       "      <td>0.879438</td>\n",
       "    </tr>\n",
       "    <tr>\n",
       "      <th>x_2</th>\n",
       "      <td>0.851709</td>\n",
       "      <td>0.808881</td>\n",
       "      <td>1.000000</td>\n",
       "      <td>0.944448</td>\n",
       "      <td>0.841226</td>\n",
       "      <td>0.697672</td>\n",
       "      <td>0.798230</td>\n",
       "      <td>0.928940</td>\n",
       "    </tr>\n",
       "    <tr>\n",
       "      <th>x_3</th>\n",
       "      <td>0.897707</td>\n",
       "      <td>0.828220</td>\n",
       "      <td>0.944448</td>\n",
       "      <td>1.000000</td>\n",
       "      <td>0.726153</td>\n",
       "      <td>0.794041</td>\n",
       "      <td>0.886036</td>\n",
       "      <td>0.859188</td>\n",
       "    </tr>\n",
       "    <tr>\n",
       "      <th>x_4</th>\n",
       "      <td>0.682340</td>\n",
       "      <td>0.739310</td>\n",
       "      <td>0.841226</td>\n",
       "      <td>0.726153</td>\n",
       "      <td>1.000000</td>\n",
       "      <td>0.412473</td>\n",
       "      <td>0.667557</td>\n",
       "      <td>0.961389</td>\n",
       "    </tr>\n",
       "    <tr>\n",
       "      <th>x_5</th>\n",
       "      <td>0.929083</td>\n",
       "      <td>0.878301</td>\n",
       "      <td>0.697672</td>\n",
       "      <td>0.794041</td>\n",
       "      <td>0.412473</td>\n",
       "      <td>1.000000</td>\n",
       "      <td>0.887168</td>\n",
       "      <td>0.638377</td>\n",
       "    </tr>\n",
       "    <tr>\n",
       "      <th>x_6</th>\n",
       "      <td>0.956929</td>\n",
       "      <td>0.925300</td>\n",
       "      <td>0.798230</td>\n",
       "      <td>0.886036</td>\n",
       "      <td>0.667557</td>\n",
       "      <td>0.887168</td>\n",
       "      <td>1.000000</td>\n",
       "      <td>0.822547</td>\n",
       "    </tr>\n",
       "    <tr>\n",
       "      <th>y</th>\n",
       "      <td>0.848433</td>\n",
       "      <td>0.879438</td>\n",
       "      <td>0.928940</td>\n",
       "      <td>0.859188</td>\n",
       "      <td>0.961389</td>\n",
       "      <td>0.638377</td>\n",
       "      <td>0.822547</td>\n",
       "      <td>1.000000</td>\n",
       "    </tr>\n",
       "  </tbody>\n",
       "</table>\n",
       "</div>"
      ],
      "text/plain": [
       "          x_0       x_1       x_2       x_3       x_4       x_5       x_6  \\\n",
       "x_0  1.000000  0.960564  0.851709  0.897707  0.682340  0.929083  0.956929   \n",
       "x_1  0.960564  1.000000  0.808881  0.828220  0.739310  0.878301  0.925300   \n",
       "x_2  0.851709  0.808881  1.000000  0.944448  0.841226  0.697672  0.798230   \n",
       "x_3  0.897707  0.828220  0.944448  1.000000  0.726153  0.794041  0.886036   \n",
       "x_4  0.682340  0.739310  0.841226  0.726153  1.000000  0.412473  0.667557   \n",
       "x_5  0.929083  0.878301  0.697672  0.794041  0.412473  1.000000  0.887168   \n",
       "x_6  0.956929  0.925300  0.798230  0.886036  0.667557  0.887168  1.000000   \n",
       "y    0.848433  0.879438  0.928940  0.859188  0.961389  0.638377  0.822547   \n",
       "\n",
       "            y  \n",
       "x_0  0.848433  \n",
       "x_1  0.879438  \n",
       "x_2  0.928940  \n",
       "x_3  0.859188  \n",
       "x_4  0.961389  \n",
       "x_5  0.638377  \n",
       "x_6  0.822547  \n",
       "y    1.000000  "
      ]
     },
     "execution_count": 43,
     "metadata": {},
     "output_type": "execute_result"
    }
   ],
   "source": [
    "feature_df.corr()"
   ]
  },
  {
   "cell_type": "code",
   "execution_count": 44,
   "metadata": {},
   "outputs": [],
   "source": [
    "scaled_feature_df = StandardScaler().fit_transform(feature_df)\n",
    "feature_df = pd.DataFrame(scaled_feature_df, columns=feature_df.columns)"
   ]
  },
  {
   "cell_type": "code",
   "execution_count": 45,
   "metadata": {},
   "outputs": [
    {
     "name": "stdout",
     "output_type": "stream",
     "text": [
      "akaike               -4.314013\n",
      "rmse                  0.027455\n",
      "durbin watson         0.442306\n",
      "determination coef    0.999276\n",
      "dtype: float64\n"
     ]
    }
   ],
   "source": [
    "linear_reg = LinearRegression()\n",
    "linear_reg.fit(feature_df.drop(columns='y'), feature_df['y'])\n",
    "pred = linear_reg.predict(feature_df.drop(columns='y'))\n",
    "\n",
    "get_stats(feature_df['y'], pred, 7)"
   ]
  },
  {
   "cell_type": "code",
   "execution_count": 46,
   "metadata": {},
   "outputs": [
    {
     "name": "stdout",
     "output_type": "stream",
     "text": [
      "akaike               -4.314013e+00\n",
      "rmse                  2.745490e-02\n",
      "durbin watson         4.423063e-01\n",
      "determination coef    9.992759e-01\n",
      "schwarz criteria     -4.188886e+00\n",
      "rsse                  1.288949e-01\n",
      "adjusted det coef     9.984927e-01\n",
      "log likelihood        3.909471e+02\n",
      "mean dependent var    2.416918e-17\n",
      "std dependent var     2.698555e-02\n",
      "dtype: float64\n"
     ]
    }
   ],
   "source": [
    "get_complete_stats(feature_df['y'], pred, 7)"
   ]
  },
  {
   "cell_type": "code",
   "execution_count": 47,
   "metadata": {},
   "outputs": [
    {
     "data": {
      "text/plain": [
       "(1.8865756838786204e-15,\n",
       " array([-0.02143043,  0.23927177,  0.24595714, -0.02124278,  0.56181227,\n",
       "         0.00171584,  0.06758316]))"
      ]
     },
     "execution_count": 47,
     "metadata": {},
     "output_type": "execute_result"
    }
   ],
   "source": [
    "linear_reg.intercept_, linear_reg.coef_"
   ]
  },
  {
   "cell_type": "code",
   "execution_count": 48,
   "metadata": {},
   "outputs": [
    {
     "data": {
      "text/plain": [
       "['data/RTScr.txt',\n",
       " 'data/RTSfn.txt',\n",
       " 'data/RTSmm.txt',\n",
       " 'data/RTSin.txt',\n",
       " 'data/RTSog.txt',\n",
       " 'data/RTSeu.txt',\n",
       " 'data/RTStl.txt']"
      ]
     },
     "execution_count": 48,
     "metadata": {},
     "output_type": "execute_result"
    }
   ],
   "source": [
    "glob('data/RTS*')"
   ]
  },
  {
   "cell_type": "markdown",
   "metadata": {},
   "source": [
    "# Multiple ARMA"
   ]
  },
  {
   "cell_type": "code",
   "execution_count": 49,
   "metadata": {},
   "outputs": [
    {
     "name": "stdout",
     "output_type": "stream",
     "text": [
      "akaike               -5.840592\n",
      "rmse                  0.012453\n",
      "durbin watson         1.952700\n",
      "determination coef    0.999814\n",
      "dtype: float64\n"
     ]
    }
   ],
   "source": [
    "arma_ma_simple_5 = ARMA(on_residuals=True, ma_window_size=5)\n",
    "pred, target = arma_ma_simple_5.fit_predict(feature_df['y'], feature_df.drop(columns='y'))\n",
    "\n",
    "get_stats(target, pred, len(arma_ma_simple_5.arma_coefs))"
   ]
  },
  {
   "cell_type": "code",
   "execution_count": 50,
   "metadata": {},
   "outputs": [
    {
     "name": "stdout",
     "output_type": "stream",
     "text": [
      "akaike               -5.840592e+00\n",
      "rmse                  1.245314e-02\n",
      "durbin watson         1.952700e+00\n",
      "determination coef    9.998139e-01\n",
      "schwarz criteria     -5.530731e+00\n",
      "rsse                  2.419259e-02\n",
      "adjusted det coef     9.995871e-01\n",
      "log likelihood        5.222112e+02\n",
      "mean dependent var    2.185952e-17\n",
      "std dependent var     1.185979e-02\n",
      "dtype: float64\n"
     ]
    }
   ],
   "source": [
    "get_complete_stats(target, pred, len(arma_ma_simple_5.arma_coefs))"
   ]
  },
  {
   "cell_type": "code",
   "execution_count": 51,
   "metadata": {},
   "outputs": [
    {
     "data": {
      "text/plain": [
       "[0.0016913409892948157,\n",
       " 0.6220552224769514,\n",
       " -0.047815760422687786,\n",
       " 0.03683860241082243,\n",
       " 0.2616393818374164,\n",
       " -0.16619952683089093,\n",
       " 0.2185010218766878,\n",
       " -0.12851299435758862,\n",
       " 1,\n",
       " -0.037348678648325556,\n",
       " 0.027459830923241075,\n",
       " 0.5983132723116314,\n",
       " -0.3887659575375027,\n",
       " 0.03542260511393553,\n",
       " -0.036969694913973734,\n",
       " 0.09124202240302476,\n",
       " -0.05879430898793012]"
      ]
     },
     "execution_count": 51,
     "metadata": {},
     "output_type": "execute_result"
    }
   ],
   "source": [
    "arma_ma_simple_5.arma_coefs"
   ]
  },
  {
   "cell_type": "code",
   "execution_count": null,
   "metadata": {},
   "outputs": [],
   "source": []
  }
 ],
 "metadata": {
  "kernelspec": {
   "display_name": "Python 3.6 venv",
   "language": "python",
   "name": "venv"
  },
  "language_info": {
   "codemirror_mode": {
    "name": "ipython",
    "version": 3
   },
   "file_extension": ".py",
   "mimetype": "text/x-python",
   "name": "python",
   "nbconvert_exporter": "python",
   "pygments_lexer": "ipython3",
   "version": "3.6.8"
  }
 },
 "nbformat": 4,
 "nbformat_minor": 4
}
