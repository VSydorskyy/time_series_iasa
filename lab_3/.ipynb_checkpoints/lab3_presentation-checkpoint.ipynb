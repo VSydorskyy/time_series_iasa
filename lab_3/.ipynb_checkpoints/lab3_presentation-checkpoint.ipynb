{
 "cells": [
  {
   "cell_type": "code",
   "execution_count": 30,
   "metadata": {},
   "outputs": [],
   "source": [
    "import numpy as np\n",
    "import pandas as pd\n",
    "\n",
    "from matplotlib import pyplot as plt\n",
    "\n",
    "from parse_input_file import parse_file\n",
    "from create_feature_dfs import compose_signals_df, create_initial_input, create_df_only_outs\n",
    "\n",
    "from statsmodels.stats.stattools import durbin_watson\n",
    "from scipy.stats import jarque_bera\n",
    "\n",
    "from ARMA import ARMA\n",
    "from metrics import akkake_criteria, rmse, determination_coef, rsse, adjusted_det_coef, log_likelihood, mean_dependent_var, std_dependent_var, shwarz_criteria   \n",
    "\n",
    "from sklearn.linear_model import LinearRegression\n",
    "from sklearn.preprocessing import StandardScaler"
   ]
  },
  {
   "cell_type": "code",
   "execution_count": 2,
   "metadata": {},
   "outputs": [],
   "source": [
    "features_df_dorbin = create_df_only_outs('data/example_for_DW.txt')\n",
    "features_df_time_series = create_df_only_outs('data/rts2.txt')"
   ]
  },
  {
   "cell_type": "code",
   "execution_count": 3,
   "metadata": {},
   "outputs": [],
   "source": [
    "feature_x1 = create_df_only_outs('data/example_x1.txt')\n",
    "feature_x2 = create_df_only_outs('data/example_x2.txt')\n",
    "feature_y = create_df_only_outs('data/example_y.txt')\n",
    "\n",
    "feature_df = pd.DataFrame({\n",
    "    'x1':feature_x1,\n",
    "    'x2':feature_x2,\n",
    "    'y':feature_y\n",
    "})"
   ]
  },
  {
   "cell_type": "markdown",
   "metadata": {},
   "source": [
    "# Dorbin Watson statistic"
   ]
  },
  {
   "cell_type": "code",
   "execution_count": 4,
   "metadata": {},
   "outputs": [
    {
     "name": "stdout",
     "output_type": "stream",
     "text": [
      "Durbin Watsons statistic: 1.2288100804239723\n"
     ]
    }
   ],
   "source": [
    "print(\"Durbin Watsons statistic: {}\".format(durbin_watson(features_df_dorbin)))"
   ]
  },
  {
   "cell_type": "markdown",
   "metadata": {},
   "source": [
    "# Time Series stats"
   ]
  },
  {
   "cell_type": "code",
   "execution_count": 5,
   "metadata": {},
   "outputs": [
    {
     "data": {
      "text/plain": [
       "<matplotlib.axes._subplots.AxesSubplot at 0x7fe99c8197b8>"
      ]
     },
     "execution_count": 5,
     "metadata": {},
     "output_type": "execute_result"
    },
    {
     "data": {
      "image/png": "[encoded data removed]",
      "text/plain": [
       "<Figure size 432x288 with 1 Axes>"
      ]
     },
     "metadata": {
      "needs_background": "light"
     },
     "output_type": "display_data"
    }
   ],
   "source": [
    "features_df_time_series.hist(bins=20)"
   ]
  },
  {
   "cell_type": "code",
   "execution_count": 6,
   "metadata": {},
   "outputs": [
    {
     "data": {
      "text/plain": [
       "mean                2383.844326\n",
       "median              2483.955000\n",
       "max                 2670.610000\n",
       "min                 1441.950000\n",
       "std                  290.307690\n",
       "skewness              -1.715513\n",
       "kurtosis               2.088334\n",
       "jarque_bera          115.406150\n",
       "jarque_bera_prob       0.000000\n",
       "dtype: float64"
      ]
     },
     "execution_count": 6,
     "metadata": {},
     "output_type": "execute_result"
    }
   ],
   "source": [
    "pd.Series(data=[features_df_time_series.mean(),\n",
    "                 features_df_time_series.median(),\n",
    "                 features_df_time_series.max(),\n",
    "                 features_df_time_series.min(),\n",
    "                 features_df_time_series.std(),\n",
    "                 features_df_time_series.skew(),\n",
    "                 features_df_time_series.kurtosis(),\n",
    "                 jarque_bera(features_df_time_series)[0],\n",
    "                 jarque_bera(features_df_time_series)[1]],\n",
    "          index=['mean',\n",
    "                 'median',\n",
    "                 'max',\n",
    "                 'min',\n",
    "                 'std',\n",
    "                 'skewness',\n",
    "                 'kurtosis',\n",
    "                 'jarque_bera',\n",
    "                 'jarque_bera_prob'])"
   ]
  },
  {
   "cell_type": "markdown",
   "metadata": {},
   "source": [
    "# ARMA"
   ]
  },
  {
   "cell_type": "code",
   "execution_count": 28,
   "metadata": {},
   "outputs": [],
   "source": [
    "def get_stats(y_true, y_pred, model_params):\n",
    "    print(pd.Series({\n",
    "        'akaike': akkake_criteria(y_true, y_pred, model_params),\n",
    "        'rmse': rmse(y_true, y_pred, model_params),\n",
    "        'durbin watson':durbin_watson(y_true-y_pred),\n",
    "        'determination coef':determination_coef(y_true, y_pred)\n",
    "    }))"
   ]
  },
  {
   "cell_type": "code",
   "execution_count": 29,
   "metadata": {},
   "outputs": [
    {
     "name": "stdout",
     "output_type": "stream",
     "text": [
      "akaike                 8.670234\n",
      "rmse                  18.259548\n",
      "durbin watson          1.690096\n",
      "determination coef     0.994685\n",
      "dtype: float64\n"
     ]
    }
   ],
   "source": [
    "arma_ma_simple_5 = ARMA(on_residuals=True)\n",
    "pred, target = arma_ma_simple_5.fit_predict(features_df_time_series)\n",
    "\n",
    "get_stats(target, pred, len(arma_ma_simple_5.arma_coefs))"
   ]
  },
  {
   "cell_type": "code",
   "execution_count": null,
   "metadata": {},
   "outputs": [],
   "source": [
    "pd.Series({\n",
    "        'akaike': akkake_criteria(y_true, y_pred, model_params),\n",
    "        'rmse': rmse(y_true, y_pred, model_params),\n",
    "        'durbin watson':durbin_watson(y_true-y_pred),\n",
    "        'determination coef':determination_coef(y_true, y_pred),\n",
    "        'schwarz criteria': \n",
    "    })"
   ]
  },
  {
   "cell_type": "code",
   "execution_count": 11,
   "metadata": {},
   "outputs": [
    {
     "data": {
      "text/plain": [
       "[-56.517290890336426, 1.0209980190217736, 1, -0.5276736834426188]"
      ]
     },
     "execution_count": 11,
     "metadata": {},
     "output_type": "execute_result"
    }
   ],
   "source": [
    "arma_ma_simple_5.arma_coefs"
   ]
  },
  {
   "cell_type": "code",
   "execution_count": 12,
   "metadata": {},
   "outputs": [
    {
     "name": "stdout",
     "output_type": "stream",
     "text": [
      "akaike                 9.073922\n",
      "rmse                  22.475035\n",
      "durbin watson          1.470145\n",
      "determination coef     0.994049\n",
      "dtype: float64\n"
     ]
    }
   ],
   "source": [
    "pred, target = arma_ma_simple_5.ar_results\n",
    "\n",
    "get_stats(target, pred, len(arma_ma_simple_5.initial_lin_reg_coefs))"
   ]
  },
  {
   "cell_type": "code",
   "execution_count": 13,
   "metadata": {},
   "outputs": [
    {
     "data": {
      "text/plain": [
       "[-64.05181011201557, 1.0240671695131132]"
      ]
     },
     "execution_count": 13,
     "metadata": {},
     "output_type": "execute_result"
    }
   ],
   "source": [
    "arma_ma_simple_5.initial_lin_reg_coefs"
   ]
  },
  {
   "cell_type": "code",
   "execution_count": 14,
   "metadata": {},
   "outputs": [
    {
     "name": "stdout",
     "output_type": "stream",
     "text": [
      "akaike                 8.721959\n",
      "rmse                  18.731576\n",
      "durbin watson          1.576510\n",
      "determination coef     0.995143\n",
      "dtype: float64\n"
     ]
    }
   ],
   "source": [
    "arma_ma_simple_5 = ARMA(on_residuals=True, ma_window_size=10)\n",
    "pred, target = arma_ma_simple_5.fit_predict(features_df_time_series)\n",
    "\n",
    "get_stats(target, pred, len(arma_ma_simple_5.arma_coefs))"
   ]
  },
  {
   "cell_type": "code",
   "execution_count": 15,
   "metadata": {},
   "outputs": [
    {
     "data": {
      "text/plain": [
       "[-67.09161638690694, 1.0258438927748053, 1, -0.8373583360761785]"
      ]
     },
     "execution_count": 15,
     "metadata": {},
     "output_type": "execute_result"
    }
   ],
   "source": [
    "arma_ma_simple_5.arma_coefs"
   ]
  },
  {
   "cell_type": "code",
   "execution_count": 16,
   "metadata": {},
   "outputs": [
    {
     "name": "stdout",
     "output_type": "stream",
     "text": [
      "akaike                 9.346777\n",
      "rmse                  25.609395\n",
      "durbin watson          1.623709\n",
      "determination coef     0.996364\n",
      "dtype: float64\n"
     ]
    }
   ],
   "source": [
    "arma_ma_simple_5 = ARMA(on_residuals=True, ma_type='exp')\n",
    "pred, target = arma_ma_simple_5.fit_predict(features_df_time_series)\n",
    "\n",
    "get_stats(target, pred, len(arma_ma_simple_5.arma_coefs))"
   ]
  },
  {
   "cell_type": "code",
   "execution_count": 17,
   "metadata": {},
   "outputs": [
    {
     "data": {
      "text/plain": [
       "[-45.98752073462538, 1.0166315827751469, 1, -0.34264734815343884]"
      ]
     },
     "execution_count": 17,
     "metadata": {},
     "output_type": "execute_result"
    }
   ],
   "source": [
    "arma_ma_simple_5.arma_coefs"
   ]
  },
  {
   "cell_type": "code",
   "execution_count": 18,
   "metadata": {},
   "outputs": [
    {
     "name": "stdout",
     "output_type": "stream",
     "text": [
      "akaike                 9.279933\n",
      "rmse                  24.759219\n",
      "durbin watson          1.712951\n",
      "determination coef     0.997058\n",
      "dtype: float64\n"
     ]
    }
   ],
   "source": [
    "arma_ma_simple_5 = ARMA(on_residuals=True, ma_type='exp', ma_window_size=10)\n",
    "pred, target = arma_ma_simple_5.fit_predict(features_df_time_series)\n",
    "\n",
    "get_stats(target, pred, len(arma_ma_simple_5.arma_coefs))"
   ]
  },
  {
   "cell_type": "code",
   "execution_count": 19,
   "metadata": {},
   "outputs": [
    {
     "data": {
      "text/plain": [
       "[-61.954835996971724, 1.0237366246139574, 1, -0.6691907578796416]"
      ]
     },
     "execution_count": 19,
     "metadata": {},
     "output_type": "execute_result"
    }
   ],
   "source": [
    "arma_ma_simple_5.arma_coefs"
   ]
  },
  {
   "cell_type": "code",
   "execution_count": 20,
   "metadata": {},
   "outputs": [
    {
     "name": "stdout",
     "output_type": "stream",
     "text": [
      "akaike                 8.695196\n",
      "rmse                  18.490083\n",
      "durbin watson          1.474635\n",
      "determination coef     0.994524\n",
      "dtype: float64\n"
     ]
    }
   ],
   "source": [
    "arma_ma_simple_5 = ARMA(on_residuals=False)\n",
    "pred, target = arma_ma_simple_5.fit_predict(features_df_time_series)\n",
    "\n",
    "get_stats(target, pred, len(arma_ma_simple_5.arma_coefs))"
   ]
  },
  {
   "cell_type": "code",
   "execution_count": 21,
   "metadata": {},
   "outputs": [
    {
     "data": {
      "text/plain": [
       "[-17.43876272094193, 0.7917569637663355, 1, -0.7857354400392167]"
      ]
     },
     "execution_count": 21,
     "metadata": {},
     "output_type": "execute_result"
    }
   ],
   "source": [
    "arma_ma_simple_5.arma_coefs"
   ]
  },
  {
   "cell_type": "code",
   "execution_count": 22,
   "metadata": {},
   "outputs": [
    {
     "name": "stdout",
     "output_type": "stream",
     "text": [
      "akaike                 8.774786\n",
      "rmse                  19.234275\n",
      "durbin watson          1.558079\n",
      "determination coef     0.995169\n",
      "dtype: float64\n"
     ]
    }
   ],
   "source": [
    "arma_ma_simple_5 = ARMA(on_residuals=False, ma_window_size=10)\n",
    "pred, target = arma_ma_simple_5.fit_predict(features_df_time_series)\n",
    "\n",
    "get_stats(target, pred, len(arma_ma_simple_5.arma_coefs))"
   ]
  },
  {
   "cell_type": "code",
   "execution_count": 23,
   "metadata": {},
   "outputs": [
    {
     "data": {
      "text/plain": [
       "[-29.987131467783303, 0.9019695337052296, 1, -0.8904970699438141]"
      ]
     },
     "execution_count": 23,
     "metadata": {},
     "output_type": "execute_result"
    }
   ],
   "source": [
    "arma_ma_simple_5.arma_coefs"
   ]
  },
  {
   "cell_type": "code",
   "execution_count": 24,
   "metadata": {},
   "outputs": [
    {
     "name": "stdout",
     "output_type": "stream",
     "text": [
      "akaike                 9.334491\n",
      "rmse                  25.454236\n",
      "durbin watson          1.294134\n",
      "determination coef     0.995777\n",
      "dtype: float64\n"
     ]
    }
   ],
   "source": [
    "arma_ma_simple_5 = ARMA(on_residuals=False, ma_type='exp')\n",
    "pred, target = arma_ma_simple_5.fit_predict(features_df_time_series)\n",
    "\n",
    "get_stats(target, pred, len(arma_ma_simple_5.arma_coefs))"
   ]
  },
  {
   "cell_type": "code",
   "execution_count": 25,
   "metadata": {},
   "outputs": [
    {
     "data": {
      "text/plain": [
       "[-23.145351566485893, 0.8572895466062197, 1, -0.849255759567252]"
      ]
     },
     "execution_count": 25,
     "metadata": {},
     "output_type": "execute_result"
    }
   ],
   "source": [
    "arma_ma_simple_5.arma_coefs"
   ]
  },
  {
   "cell_type": "code",
   "execution_count": 26,
   "metadata": {},
   "outputs": [
    {
     "name": "stdout",
     "output_type": "stream",
     "text": [
      "akaike                 9.409860\n",
      "rmse                  26.422891\n",
      "durbin watson          1.371677\n",
      "determination coef     0.997183\n",
      "dtype: float64\n"
     ]
    }
   ],
   "source": [
    "arma_ma_simple_5 = ARMA(on_residuals=False, ma_type='exp', ma_window_size=10)\n",
    "pred, target = arma_ma_simple_5.fit_predict(features_df_time_series)\n",
    "\n",
    "get_stats(target, pred, len(arma_ma_simple_5.arma_coefs))"
   ]
  },
  {
   "cell_type": "code",
   "execution_count": 27,
   "metadata": {},
   "outputs": [
    {
     "data": {
      "text/plain": [
       "[-39.23656823113459, 0.9540376138074783, 1, -0.9389803217154189]"
      ]
     },
     "execution_count": 27,
     "metadata": {},
     "output_type": "execute_result"
    }
   ],
   "source": [
    "arma_ma_simple_5.arma_coefs"
   ]
  },
  {
   "cell_type": "markdown",
   "metadata": {},
   "source": [
    "# Multiple regression"
   ]
  },
  {
   "cell_type": "code",
   "execution_count": null,
   "metadata": {},
   "outputs": [],
   "source": [
    "feature_df.corr()"
   ]
  },
  {
   "cell_type": "code",
   "execution_count": null,
   "metadata": {},
   "outputs": [],
   "source": [
    "scaled_feature_df = StandardScaler().fit_transform(feature_df)\n",
    "\n",
    "feature_df['x1'] = scaled_feature_df[:,0]\n",
    "feature_df['x2'] = scaled_feature_df[:,1]\n",
    "feature_df['y'] = scaled_feature_df[:,2]\n",
    "\n",
    "feature_df.head()"
   ]
  },
  {
   "cell_type": "code",
   "execution_count": null,
   "metadata": {},
   "outputs": [],
   "source": [
    "linear_reg = LinearRegression()\n",
    "linear_reg.fit(feature_df.drop(columns='y'), feature_df['y'])\n",
    "pred = linear_reg.predict(feature_df.drop(columns='y'))\n",
    "\n",
    "get_stats(feature_df['y'], pred, 2)"
   ]
  },
  {
   "cell_type": "markdown",
   "metadata": {},
   "source": [
    "# Multiple ARMA"
   ]
  },
  {
   "cell_type": "code",
   "execution_count": null,
   "metadata": {},
   "outputs": [],
   "source": [
    "arma_ma_simple_5 = ARMA(on_residuals=True, ma_window_size=5)\n",
    "pred, target = arma_ma_simple_5.fit_predict(feature_df['y'], feature_df.drop(columns='y'))\n",
    "\n",
    "get_stats(target, pred, len(arma_ma_simple_5.arma_coefs))"
   ]
  },
  {
   "cell_type": "code",
   "execution_count": null,
   "metadata": {},
   "outputs": [],
   "source": []
  }
 ],
 "metadata": {
  "kernelspec": {
   "display_name": "Python 3.6 venv",
   "language": "python",
   "name": "venv"
  },
  "language_info": {
   "codemirror_mode": {
    "name": "ipython",
    "version": 3
   },
   "file_extension": ".py",
   "mimetype": "text/x-python",
   "name": "python",
   "nbconvert_exporter": "python",
   "pygments_lexer": "ipython3",
   "version": "3.6.8"
  }
 },
 "nbformat": 4,
 "nbformat_minor": 4
}
